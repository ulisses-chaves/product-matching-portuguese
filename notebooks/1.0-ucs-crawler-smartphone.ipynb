{
 "cells": [
  {
   "cell_type": "markdown",
   "id": "ea09c007",
   "metadata": {},
   "source": [
    "# Crawler"
   ]
  },
  {
   "cell_type": "code",
   "execution_count": 1,
   "id": "766a8e8d",
   "metadata": {},
   "outputs": [],
   "source": [
    "import requests\n",
    "import re\n",
    "import json"
   ]
  },
  {
   "cell_type": "code",
   "execution_count": 2,
   "id": "49ddd782",
   "metadata": {},
   "outputs": [],
   "source": [
    "headers = {'User-Agent': 'Mozilla/5.0 (Windows NT 10.0; Win64; x64) AppleWebKit/537.36 (KHTML, like Gecko) Chrome/110.0.0.0 Safari/537.36','accept-language': 'en-US,en-CA,pt-BR;q=0.9,en;q=0.8,hi-IN;q=0.7,hi;q=0.6'}"
   ]
  },
  {
   "cell_type": "code",
   "execution_count": 3,
   "id": "614ee9a4",
   "metadata": {},
   "outputs": [],
   "source": [
    "def getAnnotations(html):\n",
    "    return re.findall(r'({\"@context\":\"https://schema.org/\"[\\\\\\[\\]\\w\\-.,@:/\"”{}?=&~^´`~!#$%¨*_+;()|°®–™ ]+)', html)"
   ]
  },
  {
   "cell_type": "markdown",
   "id": "4ea649ad",
   "metadata": {},
   "source": [
    "## Smartphones - LojaSolar"
   ]
  },
  {
   "cell_type": "code",
   "execution_count": 119,
   "id": "44759fc0",
   "metadata": {},
   "outputs": [],
   "source": [
    "url = 'https://www.lojasolar.com.br/celulares-e-smartphones'"
   ]
  },
  {
   "cell_type": "code",
   "execution_count": 10,
   "id": "b118992a",
   "metadata": {},
   "outputs": [],
   "source": [
    "def getProductsLojaSolar(html):\n",
    "    return re.findall(r',[\\'\"?]@id[\\'\"?]:[\\'\"?](https[://\\w\\-.]+)', html)"
   ]
  },
  {
   "cell_type": "code",
   "execution_count": 121,
   "id": "3d477744",
   "metadata": {},
   "outputs": [],
   "source": [
    "def crawlerLojaSolar(page):\n",
    "    num = 2\n",
    "    flag = False\n",
    "    productPages = []\n",
    "    html = ''\n",
    "    while True:\n",
    "        if(flag == True):\n",
    "            aux = page + '?page=' + str(num)\n",
    "            r = requests.get(aux)\n",
    "            html = r.text\n",
    "            num = num + 1\n",
    "        else:\n",
    "            r = requests.get(page)\n",
    "            html = r.text\n",
    "            flag = True\n",
    "        products = getProductsLojaSolar(html)\n",
    "        productPages.extend(products)\n",
    "        if(num == 5):\n",
    "            break\n",
    "    \n",
    "    products = []\n",
    "    for productPage in productPages:\n",
    "        r = requests.get(productPage)\n",
    "        html = r.text\n",
    "        products.extend(getAnnotations(html))\n",
    "    \n",
    "    return products"
   ]
  },
  {
   "cell_type": "code",
   "execution_count": 122,
   "id": "843a19ea",
   "metadata": {},
   "outputs": [
    {
     "name": "stdout",
     "output_type": "stream",
     "text": [
      "287\n"
     ]
    }
   ],
   "source": [
    "matchs = crawlerLojaSolar(url)\n",
    "print(len(matchs))"
   ]
  },
  {
   "cell_type": "code",
   "execution_count": 123,
   "id": "81d63aba",
   "metadata": {},
   "outputs": [],
   "source": [
    "products = []\n",
    "i = 0\n",
    "try:\n",
    "    for match in matchs:\n",
    "        products.append(json.loads(match))\n",
    "        i = i + 1\n",
    "except: \n",
    "    print(i)"
   ]
  },
  {
   "cell_type": "code",
   "execution_count": 126,
   "id": "47ba44a4",
   "metadata": {},
   "outputs": [],
   "source": [
    "with open(\"LojaSolarSmartphone.json\", \"a\") as outfile:\n",
    "    json.dump(products, outfile)"
   ]
  },
  {
   "cell_type": "markdown",
   "id": "9fd5102d",
   "metadata": {},
   "source": [
    "## Smartphones - Girafa "
   ]
  },
  {
   "cell_type": "code",
   "execution_count": 216,
   "id": "2136df79",
   "metadata": {},
   "outputs": [],
   "source": [
    "url = 'https://www.girafa.com.br'\n",
    "complementUrl = '/c/Smartphone/Celulares'"
   ]
  },
  {
   "cell_type": "code",
   "execution_count": 217,
   "id": "82941a19",
   "metadata": {},
   "outputs": [],
   "source": [
    "def getAnnotationsGirafa(html):\n",
    "    return re.findall(r'(\"@context\":[\\\\\\[\\]\\n\\t\\w\\-.,@:/\"{}?=&~^´`~!#$%¨*_+;() ]+Product[\\\\\\[\\]\\t\\n\\w\\-.,@:/\"{}?=&~^´`~!#$%¨*_+;()|°® ]+)\\n}\\n\\n{\\n\\t\"@context\"', html)"
   ]
  },
  {
   "cell_type": "code",
   "execution_count": 218,
   "id": "3c4cfcb4",
   "metadata": {},
   "outputs": [],
   "source": [
    "r = requests.get(url + complementUrl)\n",
    "html = r.text\n",
    "productPages = re.findall(r'<a href=[\\'\"?]([\\w\\-.:/]+)[\\'\"?]>[\\n]\t\t\t\t<div class=[\\'\"?]primeira-linha[\\'\"?]>', html)\n",
    "matchs = []\n",
    "for productPage in productPages:\n",
    "    r = requests.get(url + productPage)\n",
    "    html = r.text\n",
    "    matchs.extend(getAnnotationsGirafa(html))"
   ]
  },
  {
   "cell_type": "code",
   "execution_count": 219,
   "id": "a9eaa8ef",
   "metadata": {},
   "outputs": [
    {
     "name": "stdout",
     "output_type": "stream",
     "text": [
      "103\n"
     ]
    }
   ],
   "source": [
    "print(len(matchs))"
   ]
  },
  {
   "cell_type": "code",
   "execution_count": 220,
   "id": "3a5c312b",
   "metadata": {},
   "outputs": [],
   "source": [
    "replacedMatchs = []\n",
    "aux = \"\"\n",
    "for match in matchs:\n",
    "    aux = match.replace(\"\\n\", \"\")\n",
    "    aux = aux.replace(\"\\t\",\"\")\n",
    "    aux = aux.replace('\": \"','\":\"')\n",
    "    replacedMatchs.append(\"{\" + aux + \"}\")"
   ]
  },
  {
   "cell_type": "code",
   "execution_count": 221,
   "id": "91064c01",
   "metadata": {},
   "outputs": [
    {
     "data": {
      "text/plain": [
       "103"
      ]
     },
     "execution_count": 221,
     "metadata": {},
     "output_type": "execute_result"
    }
   ],
   "source": [
    "len(replacedMatchs)"
   ]
  },
  {
   "cell_type": "code",
   "execution_count": 222,
   "id": "61078d79",
   "metadata": {},
   "outputs": [],
   "source": [
    "products = []\n",
    "i = 0\n",
    "try:\n",
    "    for match in replacedMatchs:\n",
    "        products.append(json.loads(match))\n",
    "        i = i + 1\n",
    "except: \n",
    "    print(i)"
   ]
  },
  {
   "cell_type": "code",
   "execution_count": 223,
   "id": "66cdb3ae",
   "metadata": {},
   "outputs": [],
   "source": [
    "with open(\"GirafaSmartphone.json\", \"a\") as outfile:\n",
    "    json.dump(products, outfile)"
   ]
  },
  {
   "cell_type": "markdown",
   "id": "93649d7e",
   "metadata": {},
   "source": [
    "## Smartphones - Saldão da Informática"
   ]
  },
  {
   "cell_type": "code",
   "execution_count": 224,
   "id": "7d079286",
   "metadata": {},
   "outputs": [],
   "source": [
    "url = \"https://www.saldaodainformatica.com.br/smartphone\""
   ]
  },
  {
   "cell_type": "code",
   "execution_count": 250,
   "id": "7244da9c",
   "metadata": {},
   "outputs": [],
   "source": [
    "def getAnnotationsSaldaoInformatica(html):\n",
    "    return re.findall(r'(\"@context\"[\\\\\\[\\]\\n\\t\\w\\-.,@:/\"{}?=&~^´`~!#$%¨*_+;() ]+Product[\\\\\\[\\]\\n\\t\\w\\-.,@:/\"”{}?=&~^´`~!#$%¨*_+;() ]+)', html)"
   ]
  },
  {
   "cell_type": "code",
   "execution_count": 251,
   "id": "3178629d",
   "metadata": {},
   "outputs": [],
   "source": [
    "def getProductsSaldaoInformatica(html):\n",
    "    return re.findall(r'itemprop=[\\'\"?]name[\\'\"?]><a href=[\\'\"?](https://[\\w\\-./?=]+)', html)"
   ]
  },
  {
   "cell_type": "code",
   "execution_count": 252,
   "id": "5f794ad5",
   "metadata": {},
   "outputs": [],
   "source": [
    "def crawlerSaldaoInformatica(page):\n",
    "    num = 2\n",
    "    flag = False\n",
    "    productPages = []\n",
    "    html = ''\n",
    "    while True:\n",
    "        if(flag == True):\n",
    "            aux = page + '?page=' + str(num)\n",
    "            r = requests.get(aux)\n",
    "            html = r.text\n",
    "            num = num + 1\n",
    "        else:\n",
    "            r = requests.get(page)\n",
    "            html = r.text\n",
    "            flag = True\n",
    "        products = getProductsSaldaoInformatica(html)\n",
    "        productPages.extend(products)\n",
    "        if(num == 22):\n",
    "            break\n",
    "    \n",
    "    products = []\n",
    "    for productPage in productPages:\n",
    "        r = requests.get(productPage)\n",
    "        html = r.text\n",
    "        products.extend(getAnnotationsSaldaoInformatica(html))\n",
    "    \n",
    "    return products"
   ]
  },
  {
   "cell_type": "code",
   "execution_count": 253,
   "id": "aa80bb59",
   "metadata": {},
   "outputs": [
    {
     "name": "stdout",
     "output_type": "stream",
     "text": [
      "378\n"
     ]
    }
   ],
   "source": [
    "matchs = crawlerSaldaoInformatica(url)\n",
    "print(len(matchs))"
   ]
  },
  {
   "cell_type": "code",
   "execution_count": 254,
   "id": "b4328626",
   "metadata": {},
   "outputs": [
    {
     "data": {
      "text/plain": [
       "378"
      ]
     },
     "execution_count": 254,
     "metadata": {},
     "output_type": "execute_result"
    }
   ],
   "source": [
    "replacedMatchs = []\n",
    "aux = \"\"\n",
    "for match in matchs:\n",
    "    aux = match.replace(\"\\n\", \"\")\n",
    "    aux = aux.replace(\"\\t\",\"\")\n",
    "    aux = aux.replace('\": \"','\":\"')\n",
    "    aux = aux.replace('  ','')\n",
    "    replacedMatchs.append('{' + aux)\n",
    "len(replacedMatchs)"
   ]
  },
  {
   "cell_type": "code",
   "execution_count": 257,
   "id": "9f4412d2",
   "metadata": {},
   "outputs": [],
   "source": [
    "products = []\n",
    "i = 0\n",
    "try:\n",
    "    for match in replacedMatchs:\n",
    "        products.append(json.loads(match))\n",
    "        i = i + 1\n",
    "except: \n",
    "    print(i)"
   ]
  },
  {
   "cell_type": "code",
   "execution_count": 258,
   "id": "36d46be4",
   "metadata": {},
   "outputs": [],
   "source": [
    "with open(\"SaldaoInformaticaSmartphone.json\", \"a\") as outfile:\n",
    "    json.dump(products, outfile)"
   ]
  },
  {
   "cell_type": "markdown",
   "id": "f0abf56c",
   "metadata": {},
   "source": [
    "## Smartphones - Angeloni"
   ]
  },
  {
   "cell_type": "code",
   "execution_count": 7,
   "id": "47c544c5",
   "metadata": {},
   "outputs": [],
   "source": [
    "url = \"https://www.angeloni.com.br/eletro/celular---smartphone/smartphone\""
   ]
  },
  {
   "cell_type": "code",
   "execution_count": 9,
   "id": "91b2b8e8",
   "metadata": {},
   "outputs": [],
   "source": [
    "def getProductsAngeloni(html):\n",
    "    return re.findall(r',[\\'\"?]@id[\\'\"?]:[\\'\"?](https[://\\w\\-.]+)', html)"
   ]
  },
  {
   "cell_type": "code",
   "execution_count": 42,
   "id": "f850b5d1",
   "metadata": {},
   "outputs": [],
   "source": [
    "def crawlerAngeloni(page):\n",
    "    num = 2\n",
    "    flag = False\n",
    "    productPages = []\n",
    "    html = ''\n",
    "    while True:\n",
    "        if(flag == True):\n",
    "            aux = page + '?page=' + str(num)\n",
    "            r = requests.get(aux)\n",
    "            html = r.text\n",
    "            num = num + 1\n",
    "        else:\n",
    "            r = requests.get(page)\n",
    "            html = r.text\n",
    "            flag = True\n",
    "        products = getProductsAngeloni(html)\n",
    "        productPages.extend(products)\n",
    "        if(num == 9):\n",
    "            break\n",
    "    print(\"Encontrou \" + str(len(productPages)) + \" urls de produtos\")\n",
    "    \n",
    "    products = []\n",
    "    for productPage in productPages:\n",
    "        r = requests.get(productPage)\n",
    "        html = r.text\n",
    "        products.extend(getAnnotations(html))\n",
    "    \n",
    "    return products"
   ]
  },
  {
   "cell_type": "code",
   "execution_count": 43,
   "id": "aafd9036",
   "metadata": {},
   "outputs": [
    {
     "name": "stdout",
     "output_type": "stream",
     "text": [
      "Encontrou 310 urls de produtos\n",
      "248\n"
     ]
    }
   ],
   "source": [
    "matchs = crawlerAngeloni(url)\n",
    "print(len(matchs))"
   ]
  },
  {
   "cell_type": "code",
   "execution_count": 44,
   "id": "4d54fea4",
   "metadata": {},
   "outputs": [],
   "source": [
    "products = []\n",
    "i = 0\n",
    "try:\n",
    "    for match in matchs:\n",
    "        products.append(json.loads(match))\n",
    "        i = i + 1\n",
    "except: \n",
    "    print(i)"
   ]
  },
  {
   "cell_type": "code",
   "execution_count": 45,
   "id": "b1c781f8",
   "metadata": {},
   "outputs": [],
   "source": [
    "with open(\"AngeloniSmartphone.json\", \"a\") as outfile:\n",
    "    json.dump(products, outfile)"
   ]
  },
  {
   "cell_type": "markdown",
   "id": "e0503526",
   "metadata": {},
   "source": [
    "## Smartphones - Carrefour"
   ]
  },
  {
   "cell_type": "code",
   "execution_count": 4,
   "id": "868db663",
   "metadata": {},
   "outputs": [],
   "source": [
    "url = 'https://www.carrefour.com.br/'\n",
    "complementUrl = 'celulares-smartphones-e-smartwatches/smartphones?map=c,c&page='"
   ]
  },
  {
   "cell_type": "code",
   "execution_count": 5,
   "id": "465c50a0",
   "metadata": {},
   "outputs": [],
   "source": [
    "def getAnnotationsCarrefour(html):\n",
    "    return re.findall(r'({\"@context\":\"https://schema.org/\".*)</script>', html)"
   ]
  },
  {
   "cell_type": "code",
   "execution_count": 6,
   "id": "9d626d80",
   "metadata": {},
   "outputs": [],
   "source": [
    "def getProductsCarrefour(html):\n",
    "    return re.findall(r',[\\'\"?]linkText[\\'\"?]:[\\'\"?]([://\\w\\-.]+)', html)"
   ]
  },
  {
   "cell_type": "code",
   "execution_count": 7,
   "id": "d896b6c7",
   "metadata": {},
   "outputs": [],
   "source": [
    "def crawlerCarrefour(page):\n",
    "    num = 1\n",
    "    flag = False\n",
    "    productPages = []\n",
    "    html = ''\n",
    "    while True:\n",
    "        aux = page + str(num)\n",
    "        r = requests.get(aux, headers=headers, stream=True)\n",
    "        html = r.text\n",
    "        products = getProductsCarrefour(html)\n",
    "        productPages.extend(products)\n",
    "        if(num == 50):\n",
    "            break\n",
    "        num = num + 1\n",
    "    print(\"Encontrou \" + str(len(productPages)) + \" urls de produtos\")\n",
    "    \n",
    "    products = []\n",
    "    for productPage in productPages:\n",
    "        print(url + productPage + '/p')\n",
    "        r = requests.get(url + productPage + '/p', headers=headers, stream=True)\n",
    "        html = r.text\n",
    "        products.extend(getAnnotationsCarrefour(html))\n",
    "    \n",
    "    return products"
   ]
  },
  {
   "cell_type": "code",
   "execution_count": 9,
   "id": "c1fad47f",
   "metadata": {},
   "outputs": [
    {
     "ename": "KeyboardInterrupt",
     "evalue": "",
     "output_type": "error",
     "traceback": [
      "\u001b[1;31m---------------------------------------------------------------------------\u001b[0m",
      "\u001b[1;31mKeyboardInterrupt\u001b[0m                         Traceback (most recent call last)",
      "Cell \u001b[1;32mIn[9], line 1\u001b[0m\n\u001b[1;32m----> 1\u001b[0m matchs \u001b[38;5;241m=\u001b[39m \u001b[43mcrawlerCarrefour\u001b[49m\u001b[43m(\u001b[49m\u001b[43murl\u001b[49m\u001b[43m \u001b[49m\u001b[38;5;241;43m+\u001b[39;49m\u001b[43m \u001b[49m\u001b[43mcomplementUrl\u001b[49m\u001b[43m)\u001b[49m\n\u001b[0;32m      2\u001b[0m \u001b[38;5;28mprint\u001b[39m(\u001b[38;5;28mlen\u001b[39m(matchs))\n",
      "Cell \u001b[1;32mIn[7], line 8\u001b[0m, in \u001b[0;36mcrawlerCarrefour\u001b[1;34m(page)\u001b[0m\n\u001b[0;32m      6\u001b[0m \u001b[38;5;28;01mwhile\u001b[39;00m \u001b[38;5;28;01mTrue\u001b[39;00m:\n\u001b[0;32m      7\u001b[0m     aux \u001b[38;5;241m=\u001b[39m page \u001b[38;5;241m+\u001b[39m \u001b[38;5;28mstr\u001b[39m(num)\n\u001b[1;32m----> 8\u001b[0m     r \u001b[38;5;241m=\u001b[39m \u001b[43mrequests\u001b[49m\u001b[38;5;241;43m.\u001b[39;49m\u001b[43mget\u001b[49m\u001b[43m(\u001b[49m\u001b[43maux\u001b[49m\u001b[43m,\u001b[49m\u001b[43m \u001b[49m\u001b[43mheaders\u001b[49m\u001b[38;5;241;43m=\u001b[39;49m\u001b[43mheaders\u001b[49m\u001b[43m,\u001b[49m\u001b[43m \u001b[49m\u001b[43mstream\u001b[49m\u001b[38;5;241;43m=\u001b[39;49m\u001b[38;5;28;43;01mTrue\u001b[39;49;00m\u001b[43m)\u001b[49m\n\u001b[0;32m      9\u001b[0m     html \u001b[38;5;241m=\u001b[39m r\u001b[38;5;241m.\u001b[39mtext\n\u001b[0;32m     10\u001b[0m     products \u001b[38;5;241m=\u001b[39m getProductsCarrefour(html)\n",
      "File \u001b[1;32m~\\AppData\\Local\\Programs\\Python\\Python311\\Lib\\site-packages\\requests\\api.py:73\u001b[0m, in \u001b[0;36mget\u001b[1;34m(url, params, **kwargs)\u001b[0m\n\u001b[0;32m     62\u001b[0m \u001b[38;5;28;01mdef\u001b[39;00m \u001b[38;5;21mget\u001b[39m(url, params\u001b[38;5;241m=\u001b[39m\u001b[38;5;28;01mNone\u001b[39;00m, \u001b[38;5;241m*\u001b[39m\u001b[38;5;241m*\u001b[39mkwargs):\n\u001b[0;32m     63\u001b[0m     \u001b[38;5;124mr\u001b[39m\u001b[38;5;124;03m\"\"\"Sends a GET request.\u001b[39;00m\n\u001b[0;32m     64\u001b[0m \n\u001b[0;32m     65\u001b[0m \u001b[38;5;124;03m    :param url: URL for the new :class:`Request` object.\u001b[39;00m\n\u001b[1;32m   (...)\u001b[0m\n\u001b[0;32m     70\u001b[0m \u001b[38;5;124;03m    :rtype: requests.Response\u001b[39;00m\n\u001b[0;32m     71\u001b[0m \u001b[38;5;124;03m    \"\"\"\u001b[39;00m\n\u001b[1;32m---> 73\u001b[0m     \u001b[38;5;28;01mreturn\u001b[39;00m \u001b[43mrequest\u001b[49m\u001b[43m(\u001b[49m\u001b[38;5;124;43m\"\u001b[39;49m\u001b[38;5;124;43mget\u001b[39;49m\u001b[38;5;124;43m\"\u001b[39;49m\u001b[43m,\u001b[49m\u001b[43m \u001b[49m\u001b[43murl\u001b[49m\u001b[43m,\u001b[49m\u001b[43m \u001b[49m\u001b[43mparams\u001b[49m\u001b[38;5;241;43m=\u001b[39;49m\u001b[43mparams\u001b[49m\u001b[43m,\u001b[49m\u001b[43m \u001b[49m\u001b[38;5;241;43m*\u001b[39;49m\u001b[38;5;241;43m*\u001b[39;49m\u001b[43mkwargs\u001b[49m\u001b[43m)\u001b[49m\n",
      "File \u001b[1;32m~\\AppData\\Local\\Programs\\Python\\Python311\\Lib\\site-packages\\requests\\api.py:59\u001b[0m, in \u001b[0;36mrequest\u001b[1;34m(method, url, **kwargs)\u001b[0m\n\u001b[0;32m     55\u001b[0m \u001b[38;5;66;03m# By using the 'with' statement we are sure the session is closed, thus we\u001b[39;00m\n\u001b[0;32m     56\u001b[0m \u001b[38;5;66;03m# avoid leaving sockets open which can trigger a ResourceWarning in some\u001b[39;00m\n\u001b[0;32m     57\u001b[0m \u001b[38;5;66;03m# cases, and look like a memory leak in others.\u001b[39;00m\n\u001b[0;32m     58\u001b[0m \u001b[38;5;28;01mwith\u001b[39;00m sessions\u001b[38;5;241m.\u001b[39mSession() \u001b[38;5;28;01mas\u001b[39;00m session:\n\u001b[1;32m---> 59\u001b[0m     \u001b[38;5;28;01mreturn\u001b[39;00m \u001b[43msession\u001b[49m\u001b[38;5;241;43m.\u001b[39;49m\u001b[43mrequest\u001b[49m\u001b[43m(\u001b[49m\u001b[43mmethod\u001b[49m\u001b[38;5;241;43m=\u001b[39;49m\u001b[43mmethod\u001b[49m\u001b[43m,\u001b[49m\u001b[43m \u001b[49m\u001b[43murl\u001b[49m\u001b[38;5;241;43m=\u001b[39;49m\u001b[43murl\u001b[49m\u001b[43m,\u001b[49m\u001b[43m \u001b[49m\u001b[38;5;241;43m*\u001b[39;49m\u001b[38;5;241;43m*\u001b[39;49m\u001b[43mkwargs\u001b[49m\u001b[43m)\u001b[49m\n",
      "File \u001b[1;32m~\\AppData\\Local\\Programs\\Python\\Python311\\Lib\\site-packages\\requests\\sessions.py:587\u001b[0m, in \u001b[0;36mSession.request\u001b[1;34m(self, method, url, params, data, headers, cookies, files, auth, timeout, allow_redirects, proxies, hooks, stream, verify, cert, json)\u001b[0m\n\u001b[0;32m    582\u001b[0m send_kwargs \u001b[38;5;241m=\u001b[39m {\n\u001b[0;32m    583\u001b[0m     \u001b[38;5;124m\"\u001b[39m\u001b[38;5;124mtimeout\u001b[39m\u001b[38;5;124m\"\u001b[39m: timeout,\n\u001b[0;32m    584\u001b[0m     \u001b[38;5;124m\"\u001b[39m\u001b[38;5;124mallow_redirects\u001b[39m\u001b[38;5;124m\"\u001b[39m: allow_redirects,\n\u001b[0;32m    585\u001b[0m }\n\u001b[0;32m    586\u001b[0m send_kwargs\u001b[38;5;241m.\u001b[39mupdate(settings)\n\u001b[1;32m--> 587\u001b[0m resp \u001b[38;5;241m=\u001b[39m \u001b[38;5;28;43mself\u001b[39;49m\u001b[38;5;241;43m.\u001b[39;49m\u001b[43msend\u001b[49m\u001b[43m(\u001b[49m\u001b[43mprep\u001b[49m\u001b[43m,\u001b[49m\u001b[43m \u001b[49m\u001b[38;5;241;43m*\u001b[39;49m\u001b[38;5;241;43m*\u001b[39;49m\u001b[43msend_kwargs\u001b[49m\u001b[43m)\u001b[49m\n\u001b[0;32m    589\u001b[0m \u001b[38;5;28;01mreturn\u001b[39;00m resp\n",
      "File \u001b[1;32m~\\AppData\\Local\\Programs\\Python\\Python311\\Lib\\site-packages\\requests\\sessions.py:701\u001b[0m, in \u001b[0;36mSession.send\u001b[1;34m(self, request, **kwargs)\u001b[0m\n\u001b[0;32m    698\u001b[0m start \u001b[38;5;241m=\u001b[39m preferred_clock()\n\u001b[0;32m    700\u001b[0m \u001b[38;5;66;03m# Send the request\u001b[39;00m\n\u001b[1;32m--> 701\u001b[0m r \u001b[38;5;241m=\u001b[39m \u001b[43madapter\u001b[49m\u001b[38;5;241;43m.\u001b[39;49m\u001b[43msend\u001b[49m\u001b[43m(\u001b[49m\u001b[43mrequest\u001b[49m\u001b[43m,\u001b[49m\u001b[43m \u001b[49m\u001b[38;5;241;43m*\u001b[39;49m\u001b[38;5;241;43m*\u001b[39;49m\u001b[43mkwargs\u001b[49m\u001b[43m)\u001b[49m\n\u001b[0;32m    703\u001b[0m \u001b[38;5;66;03m# Total elapsed time of the request (approximately)\u001b[39;00m\n\u001b[0;32m    704\u001b[0m elapsed \u001b[38;5;241m=\u001b[39m preferred_clock() \u001b[38;5;241m-\u001b[39m start\n",
      "File \u001b[1;32m~\\AppData\\Local\\Programs\\Python\\Python311\\Lib\\site-packages\\requests\\adapters.py:489\u001b[0m, in \u001b[0;36mHTTPAdapter.send\u001b[1;34m(self, request, stream, timeout, verify, cert, proxies)\u001b[0m\n\u001b[0;32m    487\u001b[0m \u001b[38;5;28;01mtry\u001b[39;00m:\n\u001b[0;32m    488\u001b[0m     \u001b[38;5;28;01mif\u001b[39;00m \u001b[38;5;129;01mnot\u001b[39;00m chunked:\n\u001b[1;32m--> 489\u001b[0m         resp \u001b[38;5;241m=\u001b[39m \u001b[43mconn\u001b[49m\u001b[38;5;241;43m.\u001b[39;49m\u001b[43murlopen\u001b[49m\u001b[43m(\u001b[49m\n\u001b[0;32m    490\u001b[0m \u001b[43m            \u001b[49m\u001b[43mmethod\u001b[49m\u001b[38;5;241;43m=\u001b[39;49m\u001b[43mrequest\u001b[49m\u001b[38;5;241;43m.\u001b[39;49m\u001b[43mmethod\u001b[49m\u001b[43m,\u001b[49m\n\u001b[0;32m    491\u001b[0m \u001b[43m            \u001b[49m\u001b[43murl\u001b[49m\u001b[38;5;241;43m=\u001b[39;49m\u001b[43murl\u001b[49m\u001b[43m,\u001b[49m\n\u001b[0;32m    492\u001b[0m \u001b[43m            \u001b[49m\u001b[43mbody\u001b[49m\u001b[38;5;241;43m=\u001b[39;49m\u001b[43mrequest\u001b[49m\u001b[38;5;241;43m.\u001b[39;49m\u001b[43mbody\u001b[49m\u001b[43m,\u001b[49m\n\u001b[0;32m    493\u001b[0m \u001b[43m            \u001b[49m\u001b[43mheaders\u001b[49m\u001b[38;5;241;43m=\u001b[39;49m\u001b[43mrequest\u001b[49m\u001b[38;5;241;43m.\u001b[39;49m\u001b[43mheaders\u001b[49m\u001b[43m,\u001b[49m\n\u001b[0;32m    494\u001b[0m \u001b[43m            \u001b[49m\u001b[43mredirect\u001b[49m\u001b[38;5;241;43m=\u001b[39;49m\u001b[38;5;28;43;01mFalse\u001b[39;49;00m\u001b[43m,\u001b[49m\n\u001b[0;32m    495\u001b[0m \u001b[43m            \u001b[49m\u001b[43massert_same_host\u001b[49m\u001b[38;5;241;43m=\u001b[39;49m\u001b[38;5;28;43;01mFalse\u001b[39;49;00m\u001b[43m,\u001b[49m\n\u001b[0;32m    496\u001b[0m \u001b[43m            \u001b[49m\u001b[43mpreload_content\u001b[49m\u001b[38;5;241;43m=\u001b[39;49m\u001b[38;5;28;43;01mFalse\u001b[39;49;00m\u001b[43m,\u001b[49m\n\u001b[0;32m    497\u001b[0m \u001b[43m            \u001b[49m\u001b[43mdecode_content\u001b[49m\u001b[38;5;241;43m=\u001b[39;49m\u001b[38;5;28;43;01mFalse\u001b[39;49;00m\u001b[43m,\u001b[49m\n\u001b[0;32m    498\u001b[0m \u001b[43m            \u001b[49m\u001b[43mretries\u001b[49m\u001b[38;5;241;43m=\u001b[39;49m\u001b[38;5;28;43mself\u001b[39;49m\u001b[38;5;241;43m.\u001b[39;49m\u001b[43mmax_retries\u001b[49m\u001b[43m,\u001b[49m\n\u001b[0;32m    499\u001b[0m \u001b[43m            \u001b[49m\u001b[43mtimeout\u001b[49m\u001b[38;5;241;43m=\u001b[39;49m\u001b[43mtimeout\u001b[49m\u001b[43m,\u001b[49m\n\u001b[0;32m    500\u001b[0m \u001b[43m        \u001b[49m\u001b[43m)\u001b[49m\n\u001b[0;32m    502\u001b[0m     \u001b[38;5;66;03m# Send the request.\u001b[39;00m\n\u001b[0;32m    503\u001b[0m     \u001b[38;5;28;01melse\u001b[39;00m:\n\u001b[0;32m    504\u001b[0m         \u001b[38;5;28;01mif\u001b[39;00m \u001b[38;5;28mhasattr\u001b[39m(conn, \u001b[38;5;124m\"\u001b[39m\u001b[38;5;124mproxy_pool\u001b[39m\u001b[38;5;124m\"\u001b[39m):\n",
      "File \u001b[1;32m~\\AppData\\Local\\Programs\\Python\\Python311\\Lib\\site-packages\\urllib3\\connectionpool.py:703\u001b[0m, in \u001b[0;36mHTTPConnectionPool.urlopen\u001b[1;34m(self, method, url, body, headers, retries, redirect, assert_same_host, timeout, pool_timeout, release_conn, chunked, body_pos, **response_kw)\u001b[0m\n\u001b[0;32m    700\u001b[0m     \u001b[38;5;28mself\u001b[39m\u001b[38;5;241m.\u001b[39m_prepare_proxy(conn)\n\u001b[0;32m    702\u001b[0m \u001b[38;5;66;03m# Make the request on the httplib connection object.\u001b[39;00m\n\u001b[1;32m--> 703\u001b[0m httplib_response \u001b[38;5;241m=\u001b[39m \u001b[38;5;28;43mself\u001b[39;49m\u001b[38;5;241;43m.\u001b[39;49m\u001b[43m_make_request\u001b[49m\u001b[43m(\u001b[49m\n\u001b[0;32m    704\u001b[0m \u001b[43m    \u001b[49m\u001b[43mconn\u001b[49m\u001b[43m,\u001b[49m\n\u001b[0;32m    705\u001b[0m \u001b[43m    \u001b[49m\u001b[43mmethod\u001b[49m\u001b[43m,\u001b[49m\n\u001b[0;32m    706\u001b[0m \u001b[43m    \u001b[49m\u001b[43murl\u001b[49m\u001b[43m,\u001b[49m\n\u001b[0;32m    707\u001b[0m \u001b[43m    \u001b[49m\u001b[43mtimeout\u001b[49m\u001b[38;5;241;43m=\u001b[39;49m\u001b[43mtimeout_obj\u001b[49m\u001b[43m,\u001b[49m\n\u001b[0;32m    708\u001b[0m \u001b[43m    \u001b[49m\u001b[43mbody\u001b[49m\u001b[38;5;241;43m=\u001b[39;49m\u001b[43mbody\u001b[49m\u001b[43m,\u001b[49m\n\u001b[0;32m    709\u001b[0m \u001b[43m    \u001b[49m\u001b[43mheaders\u001b[49m\u001b[38;5;241;43m=\u001b[39;49m\u001b[43mheaders\u001b[49m\u001b[43m,\u001b[49m\n\u001b[0;32m    710\u001b[0m \u001b[43m    \u001b[49m\u001b[43mchunked\u001b[49m\u001b[38;5;241;43m=\u001b[39;49m\u001b[43mchunked\u001b[49m\u001b[43m,\u001b[49m\n\u001b[0;32m    711\u001b[0m \u001b[43m\u001b[49m\u001b[43m)\u001b[49m\n\u001b[0;32m    713\u001b[0m \u001b[38;5;66;03m# If we're going to release the connection in ``finally:``, then\u001b[39;00m\n\u001b[0;32m    714\u001b[0m \u001b[38;5;66;03m# the response doesn't need to know about the connection. Otherwise\u001b[39;00m\n\u001b[0;32m    715\u001b[0m \u001b[38;5;66;03m# it will also try to release it and we'll have a double-release\u001b[39;00m\n\u001b[0;32m    716\u001b[0m \u001b[38;5;66;03m# mess.\u001b[39;00m\n\u001b[0;32m    717\u001b[0m response_conn \u001b[38;5;241m=\u001b[39m conn \u001b[38;5;28;01mif\u001b[39;00m \u001b[38;5;129;01mnot\u001b[39;00m release_conn \u001b[38;5;28;01melse\u001b[39;00m \u001b[38;5;28;01mNone\u001b[39;00m\n",
      "File \u001b[1;32m~\\AppData\\Local\\Programs\\Python\\Python311\\Lib\\site-packages\\urllib3\\connectionpool.py:449\u001b[0m, in \u001b[0;36mHTTPConnectionPool._make_request\u001b[1;34m(self, conn, method, url, timeout, chunked, **httplib_request_kw)\u001b[0m\n\u001b[0;32m    444\u001b[0m             httplib_response \u001b[38;5;241m=\u001b[39m conn\u001b[38;5;241m.\u001b[39mgetresponse()\n\u001b[0;32m    445\u001b[0m         \u001b[38;5;28;01mexcept\u001b[39;00m \u001b[38;5;167;01mBaseException\u001b[39;00m \u001b[38;5;28;01mas\u001b[39;00m e:\n\u001b[0;32m    446\u001b[0m             \u001b[38;5;66;03m# Remove the TypeError from the exception chain in\u001b[39;00m\n\u001b[0;32m    447\u001b[0m             \u001b[38;5;66;03m# Python 3 (including for exceptions like SystemExit).\u001b[39;00m\n\u001b[0;32m    448\u001b[0m             \u001b[38;5;66;03m# Otherwise it looks like a bug in the code.\u001b[39;00m\n\u001b[1;32m--> 449\u001b[0m             \u001b[43msix\u001b[49m\u001b[38;5;241;43m.\u001b[39;49m\u001b[43mraise_from\u001b[49m\u001b[43m(\u001b[49m\u001b[43me\u001b[49m\u001b[43m,\u001b[49m\u001b[43m \u001b[49m\u001b[38;5;28;43;01mNone\u001b[39;49;00m\u001b[43m)\u001b[49m\n\u001b[0;32m    450\u001b[0m \u001b[38;5;28;01mexcept\u001b[39;00m (SocketTimeout, BaseSSLError, SocketError) \u001b[38;5;28;01mas\u001b[39;00m e:\n\u001b[0;32m    451\u001b[0m     \u001b[38;5;28mself\u001b[39m\u001b[38;5;241m.\u001b[39m_raise_timeout(err\u001b[38;5;241m=\u001b[39me, url\u001b[38;5;241m=\u001b[39murl, timeout_value\u001b[38;5;241m=\u001b[39mread_timeout)\n",
      "File \u001b[1;32m<string>:3\u001b[0m, in \u001b[0;36mraise_from\u001b[1;34m(value, from_value)\u001b[0m\n",
      "File \u001b[1;32m~\\AppData\\Local\\Programs\\Python\\Python311\\Lib\\site-packages\\urllib3\\connectionpool.py:444\u001b[0m, in \u001b[0;36mHTTPConnectionPool._make_request\u001b[1;34m(self, conn, method, url, timeout, chunked, **httplib_request_kw)\u001b[0m\n\u001b[0;32m    441\u001b[0m \u001b[38;5;28;01mexcept\u001b[39;00m \u001b[38;5;167;01mTypeError\u001b[39;00m:\n\u001b[0;32m    442\u001b[0m     \u001b[38;5;66;03m# Python 3\u001b[39;00m\n\u001b[0;32m    443\u001b[0m     \u001b[38;5;28;01mtry\u001b[39;00m:\n\u001b[1;32m--> 444\u001b[0m         httplib_response \u001b[38;5;241m=\u001b[39m \u001b[43mconn\u001b[49m\u001b[38;5;241;43m.\u001b[39;49m\u001b[43mgetresponse\u001b[49m\u001b[43m(\u001b[49m\u001b[43m)\u001b[49m\n\u001b[0;32m    445\u001b[0m     \u001b[38;5;28;01mexcept\u001b[39;00m \u001b[38;5;167;01mBaseException\u001b[39;00m \u001b[38;5;28;01mas\u001b[39;00m e:\n\u001b[0;32m    446\u001b[0m         \u001b[38;5;66;03m# Remove the TypeError from the exception chain in\u001b[39;00m\n\u001b[0;32m    447\u001b[0m         \u001b[38;5;66;03m# Python 3 (including for exceptions like SystemExit).\u001b[39;00m\n\u001b[0;32m    448\u001b[0m         \u001b[38;5;66;03m# Otherwise it looks like a bug in the code.\u001b[39;00m\n\u001b[0;32m    449\u001b[0m         six\u001b[38;5;241m.\u001b[39mraise_from(e, \u001b[38;5;28;01mNone\u001b[39;00m)\n",
      "File \u001b[1;32m~\\AppData\\Local\\Programs\\Python\\Python311\\Lib\\http\\client.py:1374\u001b[0m, in \u001b[0;36mHTTPConnection.getresponse\u001b[1;34m(self)\u001b[0m\n\u001b[0;32m   1372\u001b[0m \u001b[38;5;28;01mtry\u001b[39;00m:\n\u001b[0;32m   1373\u001b[0m     \u001b[38;5;28;01mtry\u001b[39;00m:\n\u001b[1;32m-> 1374\u001b[0m         \u001b[43mresponse\u001b[49m\u001b[38;5;241;43m.\u001b[39;49m\u001b[43mbegin\u001b[49m\u001b[43m(\u001b[49m\u001b[43m)\u001b[49m\n\u001b[0;32m   1375\u001b[0m     \u001b[38;5;28;01mexcept\u001b[39;00m \u001b[38;5;167;01mConnectionError\u001b[39;00m:\n\u001b[0;32m   1376\u001b[0m         \u001b[38;5;28mself\u001b[39m\u001b[38;5;241m.\u001b[39mclose()\n",
      "File \u001b[1;32m~\\AppData\\Local\\Programs\\Python\\Python311\\Lib\\http\\client.py:318\u001b[0m, in \u001b[0;36mHTTPResponse.begin\u001b[1;34m(self)\u001b[0m\n\u001b[0;32m    316\u001b[0m \u001b[38;5;66;03m# read until we get a non-100 response\u001b[39;00m\n\u001b[0;32m    317\u001b[0m \u001b[38;5;28;01mwhile\u001b[39;00m \u001b[38;5;28;01mTrue\u001b[39;00m:\n\u001b[1;32m--> 318\u001b[0m     version, status, reason \u001b[38;5;241m=\u001b[39m \u001b[38;5;28;43mself\u001b[39;49m\u001b[38;5;241;43m.\u001b[39;49m\u001b[43m_read_status\u001b[49m\u001b[43m(\u001b[49m\u001b[43m)\u001b[49m\n\u001b[0;32m    319\u001b[0m     \u001b[38;5;28;01mif\u001b[39;00m status \u001b[38;5;241m!=\u001b[39m CONTINUE:\n\u001b[0;32m    320\u001b[0m         \u001b[38;5;28;01mbreak\u001b[39;00m\n",
      "File \u001b[1;32m~\\AppData\\Local\\Programs\\Python\\Python311\\Lib\\http\\client.py:279\u001b[0m, in \u001b[0;36mHTTPResponse._read_status\u001b[1;34m(self)\u001b[0m\n\u001b[0;32m    278\u001b[0m \u001b[38;5;28;01mdef\u001b[39;00m \u001b[38;5;21m_read_status\u001b[39m(\u001b[38;5;28mself\u001b[39m):\n\u001b[1;32m--> 279\u001b[0m     line \u001b[38;5;241m=\u001b[39m \u001b[38;5;28mstr\u001b[39m(\u001b[38;5;28mself\u001b[39m\u001b[38;5;241m.\u001b[39mfp\u001b[38;5;241m.\u001b[39mreadline(_MAXLINE \u001b[38;5;241m+\u001b[39m \u001b[38;5;241m1\u001b[39m), \u001b[38;5;124m\"\u001b[39m\u001b[38;5;124miso-8859-1\u001b[39m\u001b[38;5;124m\"\u001b[39m)\n\u001b[0;32m    280\u001b[0m     \u001b[38;5;28;01mif\u001b[39;00m \u001b[38;5;28mlen\u001b[39m(line) \u001b[38;5;241m>\u001b[39m _MAXLINE:\n\u001b[0;32m    281\u001b[0m         \u001b[38;5;28;01mraise\u001b[39;00m LineTooLong(\u001b[38;5;124m\"\u001b[39m\u001b[38;5;124mstatus line\u001b[39m\u001b[38;5;124m\"\u001b[39m)\n",
      "File \u001b[1;32m~\\AppData\\Local\\Programs\\Python\\Python311\\Lib\\socket.py:705\u001b[0m, in \u001b[0;36mSocketIO.readinto\u001b[1;34m(self, b)\u001b[0m\n\u001b[0;32m    703\u001b[0m \u001b[38;5;28;01mwhile\u001b[39;00m \u001b[38;5;28;01mTrue\u001b[39;00m:\n\u001b[0;32m    704\u001b[0m     \u001b[38;5;28;01mtry\u001b[39;00m:\n\u001b[1;32m--> 705\u001b[0m         \u001b[38;5;28;01mreturn\u001b[39;00m \u001b[38;5;28;43mself\u001b[39;49m\u001b[38;5;241;43m.\u001b[39;49m\u001b[43m_sock\u001b[49m\u001b[38;5;241;43m.\u001b[39;49m\u001b[43mrecv_into\u001b[49m\u001b[43m(\u001b[49m\u001b[43mb\u001b[49m\u001b[43m)\u001b[49m\n\u001b[0;32m    706\u001b[0m     \u001b[38;5;28;01mexcept\u001b[39;00m timeout:\n\u001b[0;32m    707\u001b[0m         \u001b[38;5;28mself\u001b[39m\u001b[38;5;241m.\u001b[39m_timeout_occurred \u001b[38;5;241m=\u001b[39m \u001b[38;5;28;01mTrue\u001b[39;00m\n",
      "File \u001b[1;32m~\\AppData\\Local\\Programs\\Python\\Python311\\Lib\\ssl.py:1278\u001b[0m, in \u001b[0;36mSSLSocket.recv_into\u001b[1;34m(self, buffer, nbytes, flags)\u001b[0m\n\u001b[0;32m   1274\u001b[0m     \u001b[38;5;28;01mif\u001b[39;00m flags \u001b[38;5;241m!=\u001b[39m \u001b[38;5;241m0\u001b[39m:\n\u001b[0;32m   1275\u001b[0m         \u001b[38;5;28;01mraise\u001b[39;00m \u001b[38;5;167;01mValueError\u001b[39;00m(\n\u001b[0;32m   1276\u001b[0m           \u001b[38;5;124m\"\u001b[39m\u001b[38;5;124mnon-zero flags not allowed in calls to recv_into() on \u001b[39m\u001b[38;5;132;01m%s\u001b[39;00m\u001b[38;5;124m\"\u001b[39m \u001b[38;5;241m%\u001b[39m\n\u001b[0;32m   1277\u001b[0m           \u001b[38;5;28mself\u001b[39m\u001b[38;5;241m.\u001b[39m\u001b[38;5;18m__class__\u001b[39m)\n\u001b[1;32m-> 1278\u001b[0m     \u001b[38;5;28;01mreturn\u001b[39;00m \u001b[38;5;28;43mself\u001b[39;49m\u001b[38;5;241;43m.\u001b[39;49m\u001b[43mread\u001b[49m\u001b[43m(\u001b[49m\u001b[43mnbytes\u001b[49m\u001b[43m,\u001b[49m\u001b[43m \u001b[49m\u001b[43mbuffer\u001b[49m\u001b[43m)\u001b[49m\n\u001b[0;32m   1279\u001b[0m \u001b[38;5;28;01melse\u001b[39;00m:\n\u001b[0;32m   1280\u001b[0m     \u001b[38;5;28;01mreturn\u001b[39;00m \u001b[38;5;28msuper\u001b[39m()\u001b[38;5;241m.\u001b[39mrecv_into(buffer, nbytes, flags)\n",
      "File \u001b[1;32m~\\AppData\\Local\\Programs\\Python\\Python311\\Lib\\ssl.py:1134\u001b[0m, in \u001b[0;36mSSLSocket.read\u001b[1;34m(self, len, buffer)\u001b[0m\n\u001b[0;32m   1132\u001b[0m \u001b[38;5;28;01mtry\u001b[39;00m:\n\u001b[0;32m   1133\u001b[0m     \u001b[38;5;28;01mif\u001b[39;00m buffer \u001b[38;5;129;01mis\u001b[39;00m \u001b[38;5;129;01mnot\u001b[39;00m \u001b[38;5;28;01mNone\u001b[39;00m:\n\u001b[1;32m-> 1134\u001b[0m         \u001b[38;5;28;01mreturn\u001b[39;00m \u001b[38;5;28;43mself\u001b[39;49m\u001b[38;5;241;43m.\u001b[39;49m\u001b[43m_sslobj\u001b[49m\u001b[38;5;241;43m.\u001b[39;49m\u001b[43mread\u001b[49m\u001b[43m(\u001b[49m\u001b[38;5;28;43mlen\u001b[39;49m\u001b[43m,\u001b[49m\u001b[43m \u001b[49m\u001b[43mbuffer\u001b[49m\u001b[43m)\u001b[49m\n\u001b[0;32m   1135\u001b[0m     \u001b[38;5;28;01melse\u001b[39;00m:\n\u001b[0;32m   1136\u001b[0m         \u001b[38;5;28;01mreturn\u001b[39;00m \u001b[38;5;28mself\u001b[39m\u001b[38;5;241m.\u001b[39m_sslobj\u001b[38;5;241m.\u001b[39mread(\u001b[38;5;28mlen\u001b[39m)\n",
      "\u001b[1;31mKeyboardInterrupt\u001b[0m: "
     ]
    }
   ],
   "source": [
    "matchs = crawlerCarrefour(url + complementUrl)\n",
    "print(len(matchs))"
   ]
  },
  {
   "cell_type": "code",
   "execution_count": 126,
   "id": "9fb7af15",
   "metadata": {
    "collapsed": true
   },
   "outputs": [
    {
     "data": {
      "text/plain": [
       "'{\"@context\":\"https://schema.org/\",\"@type\":\"Product\",\"@id\":\"https://www.carrefour.com.br/celular-smartphone-xiaomi-redmi-note-11-4gb-ram-128gb-graphite-gray-mp923835489/p\",\"name\":\"Celular Smartphone Xiaomi Redmi Note 11 4gb Ram 128gb Graphite Gray\",\"brand\":{\"@type\":\"Brand\",\"name\":\"Xiaomi\"},\"image\":\"https://carrefourbr.vtexassets.com/arquivos/ids/94303244/6bf8404a272549768c5d27edb5fe0392.jpg?v=638086760271300000\",\"description\":\"Marca  \\u200exiaomi Fabricante  \\u200exiaomi Modelo  \\u200enote 11 Ano  \\u200e2022 Número Da Peça  \\u200enote 11 Tipo Do Produto  \\u200eeletrônicos Ram  \\u200e4 Capacidade De Armazenamento Da Memória  \\u200e6 Gb Entradas Para Memória  \\u200e1 Tamanho Da Memória Externa  \\u200e128 Tamanho Da Memória Ram Instalada  \\u200e4 Gb Capacidade De Armazenamento Digital  \\u200e128 Gb Marca Do Processador  \\u200equalcomm Velocidade Do Processador  \\u200e2.4 Ghz Tecnologia Da Tela  \\u200elcd, Amoled Tamanho Da Tela  \\u200e6.43 Polegadas Tela Ou Mostrador  \\u200eamoled, Lcd Resolução Do Sensor Óptico  \\u200e16 Mp Descrição Da Bateria Ou Pilha  \\u200epolímero De Lítio Baterias Inclusas  \\u200esim Funciona Com Baterias  \\u200esim Classificação De Potência Da Bateria Ou Pilha  \\u200e5000 Milliampere Hour (mah) Tecnologia Celular  \\u200e4g Tecnologia De Conexão  \\u200ebluetooth, Wi-fi, Usb Entrada De Usuário  \\u200etela Sensível Ao Toque Cor  \\u200egrafite, Cinza Cor Correspondente  \\u200egrafite, Cinza Conexões  \\u200ebluetooth Bluetooth Tipo De Conector  \\u200eusb Tipo C, Jack De 3,5 Mm Resolução Estática Efetiva  \\u200e10 Peso Do Produto  \\u200e160 G Número Do Modelo  \\u200enote 11 Ean  \\u200e6934177767173 Dimensões Do Produto  \\u200e16 X 7.39 X 0.81 Cm, 160 G\",\"mpn\":\"17921516\",\"sku\":\"316692435\",\"offers\":{\"@type\":\"AggregateOffer\",\"lowPrice\":1249,\"highPrice\":1249,\"priceCurrency\":\"BRL\",\"offers\":[{\"@type\":\"Offer\",\"price\":1249,\"priceCurrency\":\"BRL\",\"availability\":\"http://schema.org/InStock\",\"sku\":\"316692435\",\"itemCondition\":\"http://schema.org/NewCondition\",\"seller\":{\"@type\":\"Organization\",\"name\":\"5FSHOP\"}}],\"offerCount\":1}}'"
      ]
     },
     "execution_count": 126,
     "metadata": {},
     "output_type": "execute_result"
    }
   ],
   "source": [
    "replacedMatchs = []\n",
    "aux = \"\"\n",
    "for match in matchs:\n",
    "    aux = match.replace(\"\\xa0\", \"\")\n",
    "    replacedMatchs.append(aux)"
   ]
  },
  {
   "cell_type": "code",
   "execution_count": 127,
   "id": "20d9f7c5",
   "metadata": {},
   "outputs": [],
   "source": [
    "products = []\n",
    "i = 0\n",
    "try:\n",
    "    for match in replacedMatchs:\n",
    "        products.append(json.loads(match))\n",
    "        i = i + 1\n",
    "except: \n",
    "    print(i)"
   ]
  },
  {
   "cell_type": "code",
   "execution_count": 129,
   "id": "7e817d7f",
   "metadata": {},
   "outputs": [],
   "source": [
    "with open(\"CarrefourSmartphone.json\", \"a\") as outfile:\n",
    "    json.dump(products, outfile)"
   ]
  },
  {
   "cell_type": "markdown",
   "id": "c1d15a4f",
   "metadata": {},
   "source": [
    "## Smartphone - Casas Bahia\n",
    "### Android"
   ]
  },
  {
   "cell_type": "code",
   "execution_count": 32,
   "id": "5858e3bc",
   "metadata": {},
   "outputs": [],
   "source": [
    "url = 'https://www.casasbahia.com.br/c/telefones-e-celulares/smartphones/android?filtro=c38_c326_c3266&nid=201448&page='"
   ]
  },
  {
   "cell_type": "code",
   "execution_count": 33,
   "id": "f61622d7",
   "metadata": {},
   "outputs": [],
   "source": [
    "def getAnnotationsCasasBahia(html):\n",
    "    return re.findall(r'({\"@context\":\"https://schema.org/\".*})</script>', html)"
   ]
  },
  {
   "cell_type": "code",
   "execution_count": 34,
   "id": "27b3690d",
   "metadata": {},
   "outputs": [],
   "source": [
    "def getProductsCasasBahia(html):\n",
    "    return re.findall(r'cfHPyT[\\'\"?]><a href=[\\'\"?]([\\\\\\[\\]\\w\\-.,@:/\"”{}?=&~^´`~!#$%¨*_+;()|°®–™ ]+)[\\'\"?] class', html)"
   ]
  },
  {
   "cell_type": "code",
   "execution_count": 40,
   "id": "63c7b35e",
   "metadata": {},
   "outputs": [],
   "source": [
    "def crawlerCasasBahia(page):\n",
    "    num = 1\n",
    "    flag = False\n",
    "    productPages = []\n",
    "    html = ''\n",
    "    while True:\n",
    "        aux = page + str(num)\n",
    "        r = requests.get(aux, headers=headers, stream=True)\n",
    "        html = r.text\n",
    "        products = getProductsCasasBahia(html)\n",
    "        productPages.extend(products)\n",
    "        if(num == 159):\n",
    "            break\n",
    "        num = num + 1\n",
    "    print(\"Encontrou \" + str(len(productPages)) + \" urls de produtos\")\n",
    "    \n",
    "    products = []\n",
    "    for productPage in productPages:\n",
    "        r = requests.get(productPage, headers=headers, stream=True)\n",
    "        html = r.text\n",
    "        products.extend(getAnnotationsCasasBahia(html))\n",
    "    \n",
    "    return products"
   ]
  },
  {
   "cell_type": "code",
   "execution_count": 41,
   "id": "f2385b8b",
   "metadata": {},
   "outputs": [
    {
     "name": "stdout",
     "output_type": "stream",
     "text": [
      "Encontrou 3164 urls de produtos\n"
     ]
    },
    {
     "data": {
      "text/plain": [
       "3159"
      ]
     },
     "execution_count": 41,
     "metadata": {},
     "output_type": "execute_result"
    }
   ],
   "source": [
    "matchs = crawlerCasasBahia(url)\n",
    "len(matchs)"
   ]
  },
  {
   "cell_type": "code",
   "execution_count": 42,
   "id": "4bb06c1c",
   "metadata": {},
   "outputs": [
    {
     "data": {
      "text/plain": [
       "3159"
      ]
     },
     "execution_count": 42,
     "metadata": {},
     "output_type": "execute_result"
    }
   ],
   "source": [
    "products = []\n",
    "i = 0\n",
    "try:\n",
    "    for match in matchs:\n",
    "        products.append(json.loads(match))\n",
    "        i = i + 1\n",
    "except: \n",
    "    print(i)\n",
    "len(products)"
   ]
  },
  {
   "cell_type": "code",
   "execution_count": 43,
   "id": "cfbc46ca",
   "metadata": {},
   "outputs": [],
   "source": [
    "with open(\"CasasBahiaAndroid.json\", \"a\") as outfile:\n",
    "    json.dump(products, outfile)"
   ]
  },
  {
   "cell_type": "markdown",
   "id": "42e30b0c",
   "metadata": {},
   "source": [
    "### Iphone"
   ]
  },
  {
   "cell_type": "code",
   "execution_count": 44,
   "id": "a97cfd53",
   "metadata": {},
   "outputs": [],
   "source": [
    "url = 'https://www.casasbahia.com.br/c/telefones-e-celulares/smartphones/iphone?filtro=c38_c326_c3267&nid=201448&page='"
   ]
  },
  {
   "cell_type": "code",
   "execution_count": 45,
   "id": "622cba5c",
   "metadata": {},
   "outputs": [],
   "source": [
    "def crawlerCasasBahiaIphone(page):\n",
    "    num = 1\n",
    "    flag = False\n",
    "    productPages = []\n",
    "    html = ''\n",
    "    while True:\n",
    "        aux = page + str(num)\n",
    "        r = requests.get(aux, headers=headers, stream=True)\n",
    "        html = r.text\n",
    "        products = getProductsCasasBahia(html)\n",
    "        productPages.extend(products)\n",
    "        if(num == 38):\n",
    "            break\n",
    "        num = num + 1\n",
    "    print(\"Encontrou \" + str(len(productPages)) + \" urls de produtos\")\n",
    "    \n",
    "    products = []\n",
    "    for productPage in productPages:\n",
    "        r = requests.get(productPage, headers=headers, stream=True)\n",
    "        html = r.text\n",
    "        products.extend(getAnnotationsCasasBahia(html))\n",
    "    \n",
    "    return products"
   ]
  },
  {
   "cell_type": "code",
   "execution_count": 46,
   "id": "08d0b0b6",
   "metadata": {},
   "outputs": [
    {
     "name": "stdout",
     "output_type": "stream",
     "text": [
      "Encontrou 756 urls de produtos\n"
     ]
    },
    {
     "data": {
      "text/plain": [
       "753"
      ]
     },
     "execution_count": 46,
     "metadata": {},
     "output_type": "execute_result"
    }
   ],
   "source": [
    "matchs = crawlerCasasBahiaIphone(url)\n",
    "len(matchs)"
   ]
  },
  {
   "cell_type": "code",
   "execution_count": 47,
   "id": "e094aa87",
   "metadata": {},
   "outputs": [
    {
     "data": {
      "text/plain": [
       "753"
      ]
     },
     "execution_count": 47,
     "metadata": {},
     "output_type": "execute_result"
    }
   ],
   "source": [
    "products = []\n",
    "i = 0\n",
    "try:\n",
    "    for match in matchs:\n",
    "        products.append(json.loads(match))\n",
    "        i = i + 1\n",
    "except: \n",
    "    print(i)\n",
    "len(products)"
   ]
  },
  {
   "cell_type": "code",
   "execution_count": 48,
   "id": "18bbdde0",
   "metadata": {},
   "outputs": [],
   "source": [
    "with open(\"CasasBahiaIphone.json\", \"a\") as outfile:\n",
    "    json.dump(products, outfile)"
   ]
  },
  {
   "cell_type": "markdown",
   "id": "eda0a416",
   "metadata": {},
   "source": [
    "## Smartphone - Kabum"
   ]
  },
  {
   "cell_type": "code",
   "execution_count": 22,
   "id": "614ca032",
   "metadata": {},
   "outputs": [],
   "source": [
    "url = 'https://www.kabum.com.br'\n",
    "urlPage = '/celular-smartphone?gclid=CjwKCAjwiOCgBhAgEiwAjv5whC49Va7R5r4qhCz7H7iLUP_GQkevKjFKnz8SSCmrHONIxf1hitmNRRoClckQAvD_BwE&page_number='\n",
    "urlPageComplement = '&page_size=20&facet_filters=&sort=most_searched'"
   ]
  },
  {
   "cell_type": "code",
   "execution_count": 23,
   "id": "49a4d8de",
   "metadata": {},
   "outputs": [],
   "source": [
    "def getAnnotationsKabum(html):\n",
    "    return re.findall(r'(\"@context\":[\\\\\\[\\]\\r\\n\\t\\w\\-.,@:/\"“”″{}?=&~^´`~!#$%¨*_+;()|°®–™\\xa0 ]+.*)</script>', html)"
   ]
  },
  {
   "cell_type": "code",
   "execution_count": 24,
   "id": "8cc05e70",
   "metadata": {},
   "outputs": [],
   "source": [
    "def getProductsKabum(html):\n",
    "    return re.findall(r'</div></div><a href=[\\'\"?]([\\\\\\[\\]\\w\\-.,@:/\"”{}?=&~^´`~!#$%¨*_+;()|°®–™ ]+)[\\'\"?] class=\"sc-ff8a9791-10', html)"
   ]
  },
  {
   "cell_type": "code",
   "execution_count": 46,
   "id": "ad891b6c",
   "metadata": {},
   "outputs": [],
   "source": [
    "def crawlerKabum(page):\n",
    "    num = 1 # Talvez seja melhor ir de 50 em 50 páginas\n",
    "    flag = False\n",
    "    productPages = []\n",
    "    html = ''\n",
    "    while True:\n",
    "        aux = page + str(num) + urlPageComplement\n",
    "        r = requests.get(aux, headers=headers, stream=True)\n",
    "        html = r.text\n",
    "        products = getProductsKabum(html)\n",
    "        productPages.extend(products)\n",
    "        if(num == 500):\n",
    "            break\n",
    "        num = num + 1\n",
    "    print(\"Encontrou \" + str(len(productPages)) + \" urls de produtos\")\n",
    "    \n",
    "    products = []\n",
    "    for productPage in productPages:\n",
    "        r = requests.get(url + productPage, headers=headers, stream=True)\n",
    "        html = r.text\n",
    "        products.extend(getAnnotationsKabum(html))\n",
    "    \n",
    "    return products"
   ]
  },
  {
   "cell_type": "code",
   "execution_count": 47,
   "id": "e4a6d065",
   "metadata": {},
   "outputs": [
    {
     "name": "stdout",
     "output_type": "stream",
     "text": [
      "Encontrou 1000 urls de produtos\n",
      "935\n"
     ]
    }
   ],
   "source": [
    "matchs = crawlerKabum(url + urlPage)\n",
    "print(len(matchs))"
   ]
  },
  {
   "cell_type": "code",
   "execution_count": 48,
   "id": "996f6f1a",
   "metadata": {},
   "outputs": [
    {
     "data": {
      "text/plain": [
       "935"
      ]
     },
     "execution_count": 48,
     "metadata": {},
     "output_type": "execute_result"
    }
   ],
   "source": [
    "replacedMatchs = []\n",
    "aux = \"\"\n",
    "for match in matchs:\n",
    "    aux = match.replace(\"\\n\", \"\")\n",
    "    aux = aux.replace(\"\\t\",\"\")\n",
    "    aux = aux.replace(\"\\r\",\"\")\n",
    "    aux = aux.replace('\": \"','\":\"')\n",
    "    aux = aux.replace('  ','')\n",
    "    aux = aux.replace('\\\\\\\\\"', '″')\n",
    "    \n",
    "    replacedMatchs.append('{' + aux)\n",
    "len(replacedMatchs)"
   ]
  },
  {
   "cell_type": "code",
   "execution_count": 51,
   "id": "25b2596e",
   "metadata": {
    "scrolled": true
   },
   "outputs": [],
   "source": [
    "products = []\n",
    "i = 0\n",
    "try:\n",
    "    for match in replacedMatchs:\n",
    "        products.append(json.loads(match))\n",
    "        i = i + 1\n",
    "except: \n",
    "    print(i)"
   ]
  },
  {
   "cell_type": "code",
   "execution_count": 52,
   "id": "d04d6f81",
   "metadata": {},
   "outputs": [],
   "source": [
    "with open(\"KabumSmartphones.json\", \"a\") as outfile:\n",
    "    json.dump(products, outfile)"
   ]
  }
 ],
 "metadata": {
  "kernelspec": {
   "display_name": "Python 3 (ipykernel)",
   "language": "python",
   "name": "python3"
  },
  "language_info": {
   "codemirror_mode": {
    "name": "ipython",
    "version": 3
   },
   "file_extension": ".py",
   "mimetype": "text/x-python",
   "name": "python",
   "nbconvert_exporter": "python",
   "pygments_lexer": "ipython3",
   "version": "3.11.0"
  }
 },
 "nbformat": 4,
 "nbformat_minor": 5
}
