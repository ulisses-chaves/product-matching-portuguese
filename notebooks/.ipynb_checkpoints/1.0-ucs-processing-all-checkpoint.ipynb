{
 "cells": [
  {
   "cell_type": "markdown",
   "id": "ea511f0a",
   "metadata": {},
   "source": [
    "# Processing Data"
   ]
  },
  {
   "cell_type": "markdown",
   "id": "f938f4a5",
   "metadata": {},
   "source": [
    "## Import Libs"
   ]
  },
  {
   "cell_type": "code",
   "execution_count": 1,
   "id": "426e408d",
   "metadata": {},
   "outputs": [],
   "source": [
    "import pandas as pd\n",
    "import numpy as np\n",
    "from sklearn.model_selection import train_test_split\n",
    "from sklearn.utils import resample"
   ]
  },
  {
   "cell_type": "markdown",
   "id": "5043efc0",
   "metadata": {},
   "source": [
    "## Deepmatcher Format"
   ]
  },
  {
   "cell_type": "code",
   "execution_count": 2,
   "id": "4d833ef1",
   "metadata": {},
   "outputs": [],
   "source": [
    "def csv_to_deepmatcher_pattern(path):\n",
    "    df = pd.read_csv(path, low_memory=False)\n",
    "    df = df.drop(['match', 'Unnamed: 0'], axis=1)\n",
    "    df.drop_duplicates(subset=df.columns, inplace=True)\n",
    "    df.dropna(inplace=True)\n",
    "    return process_data(df)"
   ]
  },
  {
   "cell_type": "code",
   "execution_count": 3,
   "id": "524c6680",
   "metadata": {},
   "outputs": [],
   "source": [
    "def process_data(df):\n",
    "    sku_array = df['sku'].values\n",
    "    name_array = df['name'].values\n",
    "    brand_array = df['brand/name'].values\n",
    "    price_array = df['price'].values\n",
    "    description_array = df['description'].values\n",
    "    \n",
    "    indexes = np.triu_indices(len(sku_array), k=1)\n",
    "    \n",
    "    sku_comparison = np.where(sku_array[indexes[0]] == sku_array[indexes[1]], 'Match', 'Non-Match')\n",
    "    name_comparison = np.where(name_array[indexes[0]] == name_array[indexes[1]], 'Match', 'Non-Match')\n",
    "    \n",
    "    comparison = np.where(np.logical_or(sku_comparison == 'Match', name_comparison == 'Match'), 'Match', 'Non-Match')\n",
    "    \n",
    "    result_df = pd.DataFrame({'Label': comparison,\n",
    "                            'Left Product Title': name_array[indexes[0]],\n",
    "                            'Left Manufacturer': brand_array[indexes[0]],\n",
    "                            'Left Price': price_array[indexes[0]],\n",
    "                            'Left Description': description_array[indexes[0]],\n",
    "                            'Right Product Title': name_array[indexes[1]],\n",
    "                            'Right Manufacturer': brand_array[indexes[1]],\n",
    "                            'Right Price': price_array[indexes[1]],\n",
    "                            'Right Description': description_array[indexes[1]]})\n",
    "    return result_df"
   ]
  },
  {
   "cell_type": "code",
   "execution_count": 4,
   "id": "65732a25",
   "metadata": {},
   "outputs": [
    {
     "name": "stdout",
     "output_type": "stream",
     "text": [
      "Non-Match    45433570\n",
      "Match             708\n",
      "Name: Label, dtype: int64\n"
     ]
    }
   ],
   "source": [
    "df_deepmatcher = csv_to_deepmatcher_pattern('../data/interim/second data pre-processing/products_deepmatcher.csv')\n",
    "print(df_deepmatcher['Label'].value_counts())"
   ]
  },
  {
   "cell_type": "markdown",
   "id": "25e30ac1",
   "metadata": {},
   "source": [
    "## Undersampling/Save Separated Datas"
   ]
  },
  {
   "cell_type": "code",
   "execution_count": 7,
   "id": "721c4d0f",
   "metadata": {},
   "outputs": [],
   "source": [
    "# Undersampling\n",
    "df_majority = df_deepmatcher[df_deepmatcher['Label'] == 'Non-Match']\n",
    "df_minority = df_deepmatcher[df_deepmatcher['Label'] == \"Match\"]\n",
    "df_majority_downsampled = resample(df_majority, replace=False, n_samples=1000, random_state=42)\n",
    "df_balanced = pd.concat([df_majority_downsampled, df_minority])\n",
    "\n",
    "X = df_balanced.drop(\"Label\", axis=1)\n",
    "y = df_balanced[\"Label\"]\n",
    "X_train, X_test, y_train, y_test = train_test_split(X, y, test_size=0.25, random_state=42)\n",
    "\n",
    "X_train.to_csv(\"../data/processed/undersampling/X_train.csv\", index=False)\n",
    "X_test.to_csv(\"../data/processed/undersampling/X_test.csv\", index=False)\n",
    "y_train.to_csv(\"../data/processed/undersampling/y_train.csv\", index=False)\n",
    "y_test.to_csv(\"../data/processed/undersampling/y_test.csv\", index=False)"
   ]
  }
 ],
 "metadata": {
  "kernelspec": {
   "display_name": "Python 3 (ipykernel)",
   "language": "python",
   "name": "python3"
  },
  "language_info": {
   "codemirror_mode": {
    "name": "ipython",
    "version": 3
   },
   "file_extension": ".py",
   "mimetype": "text/x-python",
   "name": "python",
   "nbconvert_exporter": "python",
   "pygments_lexer": "ipython3",
   "version": "3.11.0"
  }
 },
 "nbformat": 4,
 "nbformat_minor": 5
}
