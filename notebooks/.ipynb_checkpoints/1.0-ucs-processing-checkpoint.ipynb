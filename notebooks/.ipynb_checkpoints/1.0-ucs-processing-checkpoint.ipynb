{
 "cells": [
  {
   "cell_type": "markdown",
   "id": "ec6bacb0",
   "metadata": {},
   "source": [
    "# Data Processing"
   ]
  },
  {
   "cell_type": "code",
   "execution_count": 1,
   "id": "b0fa816d",
   "metadata": {},
   "outputs": [],
   "source": [
    "import glob\n",
    "import pandas as pd\n",
    "import numpy as np"
   ]
  },
  {
   "cell_type": "markdown",
   "id": "3f758219",
   "metadata": {},
   "source": [
    "## Smartphones"
   ]
  },
  {
   "cell_type": "code",
   "execution_count": 30,
   "id": "38750461",
   "metadata": {},
   "outputs": [],
   "source": [
    "def csv_to_deepmatcher_pattern(path):\n",
    "    df = pd.read_csv(path, low_memory=False)\n",
    "    df = df[[\"name\", \"brand/name\", \"description\", \"sku\", \"offers/price\"]]\n",
    "    df = df.rename(columns={'offers/0/offers/0/price': 'offers/price'})\n",
    "    return process_data(df)"
   ]
  },
  {
   "cell_type": "code",
   "execution_count": 31,
   "id": "b46a5330",
   "metadata": {},
   "outputs": [],
   "source": [
    "def process_data(df):\n",
    "    sku_array = df['sku'].values\n",
    "    name_array = df['name'].values\n",
    "    brand_array = df['brand/name'].values\n",
    "    price_array = df['offers/price'].values\n",
    "    \n",
    "    indexes = np.triu_indices(len(sku_array), k=1)\n",
    "    expanded_col_array = np.tile(sku_array, (len(sku_array), 1)).T\n",
    "    \n",
    "    comparison = np.where(sku_array[indexes[0]] == sku_array[indexes[1]], 'Match', 'Non-Match')\n",
    "    \n",
    "    result_df = pd.DataFrame({'Label': comparison,\n",
    "                            'Left Product Title': name_array[indexes[0]],\n",
    "                            'Left Manufacturer': brand_array[indexes[0]],\n",
    "                            'Left Price': price_array[indexes[0]],\n",
    "                            'Right Product Title': name_array[indexes[1]],\n",
    "                            'Right Manufacturer': brand_array[indexes[1]],\n",
    "                            'Right Price': price_array[indexes[1]]})\n",
    "    return result_df"
   ]
  },
  {
   "cell_type": "markdown",
   "id": "3aa10545",
   "metadata": {},
   "source": [
    "## Kabum - Smartphones"
   ]
  },
  {
   "cell_type": "code",
   "execution_count": 4,
   "id": "5566d360",
   "metadata": {},
   "outputs": [
    {
     "name": "stdout",
     "output_type": "stream",
     "text": [
      "Non-Match    64402544\n",
      "Match            3031\n",
      "Name: Label, dtype: int64\n"
     ]
    }
   ],
   "source": [
    "df_kabumSmartphones_deepmatcher = csv_to_deepmatcher_pattern('../data/interim/first data pre-processing/KabumSmartphones.csv')\n",
    "print(df_kabumSmartphones_deepmatcher['Label'].value_counts())\n",
    "#df_kabumSmartphones_deepmatcher.to_csv('../data/processed/KabumSmartphonesDeepmatcher.csv')"
   ]
  },
  {
   "cell_type": "markdown",
   "id": "c26fa2c1",
   "metadata": {},
   "source": [
    "## Carrefour - Smartphones"
   ]
  },
  {
   "cell_type": "code",
   "execution_count": 13,
   "id": "6f86c433",
   "metadata": {
    "scrolled": true
   },
   "outputs": [
    {
     "name": "stdout",
     "output_type": "stream",
     "text": [
      "Non-Match    263164\n",
      "Match            11\n",
      "Name: Label, dtype: int64\n"
     ]
    }
   ],
   "source": [
    "df_carrefourSmartphone_deepmatcher = csv_to_deepmatcher_pattern('../data/interim/first data pre-processing/CarrefourSmartphone.csv')\n",
    "print(df_carrefourSmartphone_deepmatcher['Label'].value_counts())"
   ]
  },
  {
   "cell_type": "markdown",
   "id": "8faf9bed",
   "metadata": {},
   "source": [
    "## Girafa - Smartphones"
   ]
  },
  {
   "cell_type": "code",
   "execution_count": 6,
   "id": "543babd0",
   "metadata": {
    "scrolled": true
   },
   "outputs": [
    {
     "name": "stdout",
     "output_type": "stream",
     "text": [
      "Non-Match    5253\n",
      "Name: Label, dtype: int64\n"
     ]
    }
   ],
   "source": [
    "df_girafa_deepmatcher = csv_to_deepmatcher_pattern('../data/interim/first data pre-processing/GirafaSmartphone.csv')\n",
    "print(df_girafa_deepmatcher['Label'].value_counts())"
   ]
  },
  {
   "cell_type": "markdown",
   "id": "6fa42151",
   "metadata": {},
   "source": [
    "## Loja Solar - Smartphones"
   ]
  },
  {
   "cell_type": "code",
   "execution_count": 10,
   "id": "6c4760ed",
   "metadata": {},
   "outputs": [
    {
     "name": "stdout",
     "output_type": "stream",
     "text": [
      "Non-Match    40898\n",
      "Match          143\n",
      "Name: Label, dtype: int64\n"
     ]
    }
   ],
   "source": [
    "#Crawler feito de maneira errada. pois 184 é o total de itens\n",
    "df_lojaSolar_deepmatcher = csv_to_deepmatcher_pattern('../data/interim/first data pre-processing/LojaSolarSmartphone.csv')\n",
    "print(df_lojaSolar_deepmatcher['Label'].value_counts())"
   ]
  },
  {
   "cell_type": "markdown",
   "id": "63be54af",
   "metadata": {},
   "source": [
    "## Angeloni - Smarphones"
   ]
  },
  {
   "cell_type": "code",
   "execution_count": 12,
   "id": "388d6f91",
   "metadata": {},
   "outputs": [
    {
     "name": "stdout",
     "output_type": "stream",
     "text": [
      "Non-Match    30504\n",
      "Match          124\n",
      "Name: Label, dtype: int64\n"
     ]
    }
   ],
   "source": [
    "df_angeloni_deepmatcher = csv_to_deepmatcher_pattern('../data/interim/first data pre-processing/AngeloniSmartphone.csv')\n",
    "print(df_angeloni_deepmatcher['Label'].value_counts())"
   ]
  },
  {
   "cell_type": "markdown",
   "id": "ff04befa",
   "metadata": {},
   "source": [
    "## Casas Bahia - Smartphones"
   ]
  },
  {
   "cell_type": "code",
   "execution_count": 29,
   "id": "d2f5c4a0",
   "metadata": {},
   "outputs": [
    {
     "name": "stdout",
     "output_type": "stream",
     "text": [
      "Non-Match    283128\n",
      "Name: Label, dtype: int64\n",
      "Non-Match    4988055\n",
      "Match              6\n",
      "Name: Label, dtype: int64\n"
     ]
    }
   ],
   "source": [
    "df_casasBahiaIphone_deepmatcher = csv_to_deepmatcher_pattern('../data/interim/first data pre-processing/CasasBahiaIphone.csv')\n",
    "print(df_casasBahiaIphone_deepmatcher['Label'].value_counts())\n",
    "\n",
    "df_casasBahiaAndroid_deepmatcher = csv_to_deepmatcher_pattern('../data/interim/first data pre-processing/CasasBahiaAndroid.csv')\n",
    "print(df_casasBahiaAndroid_deepmatcher['Label'].value_counts())"
   ]
  },
  {
   "cell_type": "code",
   "execution_count": null,
   "id": "ecf02313",
   "metadata": {},
   "outputs": [],
   "source": []
  }
 ],
 "metadata": {
  "kernelspec": {
   "display_name": "Python 3 (ipykernel)",
   "language": "python",
   "name": "python3"
  },
  "language_info": {
   "codemirror_mode": {
    "name": "ipython",
    "version": 3
   },
   "file_extension": ".py",
   "mimetype": "text/x-python",
   "name": "python",
   "nbconvert_exporter": "python",
   "pygments_lexer": "ipython3",
   "version": "3.11.0"
  }
 },
 "nbformat": 4,
 "nbformat_minor": 5
}
