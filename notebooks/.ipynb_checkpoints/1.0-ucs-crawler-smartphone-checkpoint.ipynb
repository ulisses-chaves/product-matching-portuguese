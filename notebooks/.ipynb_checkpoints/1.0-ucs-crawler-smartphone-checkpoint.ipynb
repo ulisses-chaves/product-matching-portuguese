{
 "cells": [
  {
   "cell_type": "markdown",
   "id": "ea09c007",
   "metadata": {},
   "source": [
    "# Crawler"
   ]
  },
  {
   "cell_type": "code",
   "execution_count": 1,
   "id": "766a8e8d",
   "metadata": {},
   "outputs": [],
   "source": [
    "import requests\n",
    "import re\n",
    "import json"
   ]
  },
  {
   "cell_type": "code",
   "execution_count": 2,
   "id": "49ddd782",
   "metadata": {},
   "outputs": [],
   "source": [
    "headers = {'User-Agent': 'Mozilla/5.0 (Windows NT 10.0; Win64; x64) AppleWebKit/537.36 (KHTML, like Gecko) Chrome/110.0.0.0 Safari/537.36','accept-language': 'en-US,en-CA,pt-BR;q=0.9,en;q=0.8,hi-IN;q=0.7,hi;q=0.6'}"
   ]
  },
  {
   "cell_type": "code",
   "execution_count": 3,
   "id": "614ee9a4",
   "metadata": {},
   "outputs": [],
   "source": [
    "def getAnnotations(html):\n",
    "    return re.findall(r'({\"@context\":\"https://schema.org/\"[\\\\\\[\\]\\w\\-.,@:/\"”{}?=&~^´`~!#$%¨*_+;()|°®–™ ]+)', html)"
   ]
  },
  {
   "cell_type": "markdown",
   "id": "4ea649ad",
   "metadata": {},
   "source": [
    "## Smartphones - LojaSolar"
   ]
  },
  {
   "cell_type": "code",
   "execution_count": 119,
   "id": "44759fc0",
   "metadata": {},
   "outputs": [],
   "source": [
    "url = 'https://www.lojasolar.com.br/celulares-e-smartphones'"
   ]
  },
  {
   "cell_type": "code",
   "execution_count": 10,
   "id": "b118992a",
   "metadata": {},
   "outputs": [],
   "source": [
    "def getProductsLojaSolar(html):\n",
    "    return re.findall(r',[\\'\"?]@id[\\'\"?]:[\\'\"?](https[://\\w\\-.]+)', html)"
   ]
  },
  {
   "cell_type": "code",
   "execution_count": 121,
   "id": "3d477744",
   "metadata": {},
   "outputs": [],
   "source": [
    "def crawlerLojaSolar(page):\n",
    "    num = 2\n",
    "    flag = False\n",
    "    productPages = []\n",
    "    html = ''\n",
    "    while True:\n",
    "        if(flag == True):\n",
    "            aux = page + '?page=' + str(num)\n",
    "            r = requests.get(aux)\n",
    "            html = r.text\n",
    "            num = num + 1\n",
    "        else:\n",
    "            r = requests.get(page)\n",
    "            html = r.text\n",
    "            flag = True\n",
    "        products = getProductsLojaSolar(html)\n",
    "        productPages.extend(products)\n",
    "        if(num == 5):\n",
    "            break\n",
    "    \n",
    "    products = []\n",
    "    for productPage in productPages:\n",
    "        r = requests.get(productPage)\n",
    "        html = r.text\n",
    "        products.extend(getAnnotations(html))\n",
    "    \n",
    "    return products"
   ]
  },
  {
   "cell_type": "code",
   "execution_count": 122,
   "id": "843a19ea",
   "metadata": {},
   "outputs": [
    {
     "name": "stdout",
     "output_type": "stream",
     "text": [
      "287\n"
     ]
    }
   ],
   "source": [
    "matchs = crawlerLojaSolar(url)\n",
    "print(len(matchs))"
   ]
  },
  {
   "cell_type": "code",
   "execution_count": 123,
   "id": "81d63aba",
   "metadata": {},
   "outputs": [],
   "source": [
    "products = []\n",
    "i = 0\n",
    "try:\n",
    "    for match in matchs:\n",
    "        products.append(json.loads(match))\n",
    "        i = i + 1\n",
    "except: \n",
    "    print(i)"
   ]
  },
  {
   "cell_type": "code",
   "execution_count": 126,
   "id": "47ba44a4",
   "metadata": {},
   "outputs": [],
   "source": [
    "with open(\"LojaSolarSmartphone.json\", \"a\") as outfile:\n",
    "    json.dump(products, outfile)"
   ]
  },
  {
   "cell_type": "markdown",
   "id": "9fd5102d",
   "metadata": {},
   "source": [
    "## Smartphones - Girafa "
   ]
  },
  {
   "cell_type": "code",
   "execution_count": 216,
   "id": "2136df79",
   "metadata": {},
   "outputs": [],
   "source": [
    "url = 'https://www.girafa.com.br'\n",
    "complementUrl = '/c/Smartphone/Celulares'"
   ]
  },
  {
   "cell_type": "code",
   "execution_count": 217,
   "id": "82941a19",
   "metadata": {},
   "outputs": [],
   "source": [
    "def getAnnotationsGirafa(html):\n",
    "    return re.findall(r'(\"@context\":[\\\\\\[\\]\\n\\t\\w\\-.,@:/\"{}?=&~^´`~!#$%¨*_+;() ]+Product[\\\\\\[\\]\\t\\n\\w\\-.,@:/\"{}?=&~^´`~!#$%¨*_+;()|°® ]+)\\n}\\n\\n{\\n\\t\"@context\"', html)"
   ]
  },
  {
   "cell_type": "code",
   "execution_count": 218,
   "id": "3c4cfcb4",
   "metadata": {},
   "outputs": [],
   "source": [
    "r = requests.get(url + complementUrl)\n",
    "html = r.text\n",
    "productPages = re.findall(r'<a href=[\\'\"?]([\\w\\-.:/]+)[\\'\"?]>[\\n]\t\t\t\t<div class=[\\'\"?]primeira-linha[\\'\"?]>', html)\n",
    "matchs = []\n",
    "for productPage in productPages:\n",
    "    r = requests.get(url + productPage)\n",
    "    html = r.text\n",
    "    matchs.extend(getAnnotationsGirafa(html))"
   ]
  },
  {
   "cell_type": "code",
   "execution_count": 219,
   "id": "a9eaa8ef",
   "metadata": {},
   "outputs": [
    {
     "name": "stdout",
     "output_type": "stream",
     "text": [
      "103\n"
     ]
    }
   ],
   "source": [
    "print(len(matchs))"
   ]
  },
  {
   "cell_type": "code",
   "execution_count": 220,
   "id": "3a5c312b",
   "metadata": {},
   "outputs": [],
   "source": [
    "replacedMatchs = []\n",
    "aux = \"\"\n",
    "for match in matchs:\n",
    "    aux = match.replace(\"\\n\", \"\")\n",
    "    aux = aux.replace(\"\\t\",\"\")\n",
    "    aux = aux.replace('\": \"','\":\"')\n",
    "    replacedMatchs.append(\"{\" + aux + \"}\")"
   ]
  },
  {
   "cell_type": "code",
   "execution_count": 221,
   "id": "91064c01",
   "metadata": {},
   "outputs": [
    {
     "data": {
      "text/plain": [
       "103"
      ]
     },
     "execution_count": 221,
     "metadata": {},
     "output_type": "execute_result"
    }
   ],
   "source": [
    "len(replacedMatchs)"
   ]
  },
  {
   "cell_type": "code",
   "execution_count": 222,
   "id": "61078d79",
   "metadata": {},
   "outputs": [],
   "source": [
    "products = []\n",
    "i = 0\n",
    "try:\n",
    "    for match in replacedMatchs:\n",
    "        products.append(json.loads(match))\n",
    "        i = i + 1\n",
    "except: \n",
    "    print(i)"
   ]
  },
  {
   "cell_type": "code",
   "execution_count": 223,
   "id": "66cdb3ae",
   "metadata": {},
   "outputs": [],
   "source": [
    "with open(\"GirafaSmartphone.json\", \"a\") as outfile:\n",
    "    json.dump(products, outfile)"
   ]
  },
  {
   "cell_type": "markdown",
   "id": "93649d7e",
   "metadata": {},
   "source": [
    "## Smartphones - Saldão da Informática"
   ]
  },
  {
   "cell_type": "code",
   "execution_count": 224,
   "id": "7d079286",
   "metadata": {},
   "outputs": [],
   "source": [
    "url = \"https://www.saldaodainformatica.com.br/smartphone\""
   ]
  },
  {
   "cell_type": "code",
   "execution_count": 250,
   "id": "7244da9c",
   "metadata": {},
   "outputs": [],
   "source": [
    "def getAnnotationsSaldaoInformatica(html):\n",
    "    return re.findall(r'(\"@context\"[\\\\\\[\\]\\n\\t\\w\\-.,@:/\"{}?=&~^´`~!#$%¨*_+;() ]+Product[\\\\\\[\\]\\n\\t\\w\\-.,@:/\"”{}?=&~^´`~!#$%¨*_+;() ]+)', html)"
   ]
  },
  {
   "cell_type": "code",
   "execution_count": 251,
   "id": "3178629d",
   "metadata": {},
   "outputs": [],
   "source": [
    "def getProductsSaldaoInformatica(html):\n",
    "    return re.findall(r'itemprop=[\\'\"?]name[\\'\"?]><a href=[\\'\"?](https://[\\w\\-./?=]+)', html)"
   ]
  },
  {
   "cell_type": "code",
   "execution_count": 252,
   "id": "5f794ad5",
   "metadata": {},
   "outputs": [],
   "source": [
    "def crawlerSaldaoInformatica(page):\n",
    "    num = 2\n",
    "    flag = False\n",
    "    productPages = []\n",
    "    html = ''\n",
    "    while True:\n",
    "        if(flag == True):\n",
    "            aux = page + '?page=' + str(num)\n",
    "            r = requests.get(aux)\n",
    "            html = r.text\n",
    "            num = num + 1\n",
    "        else:\n",
    "            r = requests.get(page)\n",
    "            html = r.text\n",
    "            flag = True\n",
    "        products = getProductsSaldaoInformatica(html)\n",
    "        productPages.extend(products)\n",
    "        if(num == 22):\n",
    "            break\n",
    "    \n",
    "    products = []\n",
    "    for productPage in productPages:\n",
    "        r = requests.get(productPage)\n",
    "        html = r.text\n",
    "        products.extend(getAnnotationsSaldaoInformatica(html))\n",
    "    \n",
    "    return products"
   ]
  },
  {
   "cell_type": "code",
   "execution_count": 253,
   "id": "aa80bb59",
   "metadata": {},
   "outputs": [
    {
     "name": "stdout",
     "output_type": "stream",
     "text": [
      "378\n"
     ]
    }
   ],
   "source": [
    "matchs = crawlerSaldaoInformatica(url)\n",
    "print(len(matchs))"
   ]
  },
  {
   "cell_type": "code",
   "execution_count": 254,
   "id": "b4328626",
   "metadata": {},
   "outputs": [
    {
     "data": {
      "text/plain": [
       "378"
      ]
     },
     "execution_count": 254,
     "metadata": {},
     "output_type": "execute_result"
    }
   ],
   "source": [
    "replacedMatchs = []\n",
    "aux = \"\"\n",
    "for match in matchs:\n",
    "    aux = match.replace(\"\\n\", \"\")\n",
    "    aux = aux.replace(\"\\t\",\"\")\n",
    "    aux = aux.replace('\": \"','\":\"')\n",
    "    aux = aux.replace('  ','')\n",
    "    replacedMatchs.append('{' + aux)\n",
    "len(replacedMatchs)"
   ]
  },
  {
   "cell_type": "code",
   "execution_count": 257,
   "id": "9f4412d2",
   "metadata": {},
   "outputs": [],
   "source": [
    "products = []\n",
    "i = 0\n",
    "try:\n",
    "    for match in replacedMatchs:\n",
    "        products.append(json.loads(match))\n",
    "        i = i + 1\n",
    "except: \n",
    "    print(i)"
   ]
  },
  {
   "cell_type": "code",
   "execution_count": 258,
   "id": "36d46be4",
   "metadata": {},
   "outputs": [],
   "source": [
    "with open(\"SaldaoInformaticaSmartphone.json\", \"a\") as outfile:\n",
    "    json.dump(products, outfile)"
   ]
  },
  {
   "cell_type": "markdown",
   "id": "f0abf56c",
   "metadata": {},
   "source": [
    "## Smartphones - Angeloni"
   ]
  },
  {
   "cell_type": "code",
   "execution_count": 7,
   "id": "47c544c5",
   "metadata": {},
   "outputs": [],
   "source": [
    "url = \"https://www.angeloni.com.br/eletro/celular---smartphone/smartphone\""
   ]
  },
  {
   "cell_type": "code",
   "execution_count": 9,
   "id": "91b2b8e8",
   "metadata": {},
   "outputs": [],
   "source": [
    "def getProductsAngeloni(html):\n",
    "    return re.findall(r',[\\'\"?]@id[\\'\"?]:[\\'\"?](https[://\\w\\-.]+)', html)"
   ]
  },
  {
   "cell_type": "code",
   "execution_count": 42,
   "id": "f850b5d1",
   "metadata": {},
   "outputs": [],
   "source": [
    "def crawlerAngeloni(page):\n",
    "    num = 2\n",
    "    flag = False\n",
    "    productPages = []\n",
    "    html = ''\n",
    "    while True:\n",
    "        if(flag == True):\n",
    "            aux = page + '?page=' + str(num)\n",
    "            r = requests.get(aux)\n",
    "            html = r.text\n",
    "            num = num + 1\n",
    "        else:\n",
    "            r = requests.get(page)\n",
    "            html = r.text\n",
    "            flag = True\n",
    "        products = getProductsAngeloni(html)\n",
    "        productPages.extend(products)\n",
    "        if(num == 9):\n",
    "            break\n",
    "    print(\"Encontrou \" + str(len(productPages)) + \" urls de produtos\")\n",
    "    \n",
    "    products = []\n",
    "    for productPage in productPages:\n",
    "        r = requests.get(productPage)\n",
    "        html = r.text\n",
    "        products.extend(getAnnotations(html))\n",
    "    \n",
    "    return products"
   ]
  },
  {
   "cell_type": "code",
   "execution_count": 43,
   "id": "aafd9036",
   "metadata": {},
   "outputs": [
    {
     "name": "stdout",
     "output_type": "stream",
     "text": [
      "Encontrou 310 urls de produtos\n",
      "248\n"
     ]
    }
   ],
   "source": [
    "matchs = crawlerAngeloni(url)\n",
    "print(len(matchs))"
   ]
  },
  {
   "cell_type": "code",
   "execution_count": 44,
   "id": "4d54fea4",
   "metadata": {},
   "outputs": [],
   "source": [
    "products = []\n",
    "i = 0\n",
    "try:\n",
    "    for match in matchs:\n",
    "        products.append(json.loads(match))\n",
    "        i = i + 1\n",
    "except: \n",
    "    print(i)"
   ]
  },
  {
   "cell_type": "code",
   "execution_count": 45,
   "id": "b1c781f8",
   "metadata": {},
   "outputs": [],
   "source": [
    "with open(\"AngeloniSmartphone.json\", \"a\") as outfile:\n",
    "    json.dump(products, outfile)"
   ]
  },
  {
   "cell_type": "markdown",
   "id": "e0503526",
   "metadata": {},
   "source": [
    "## Smartphones - Carrefour"
   ]
  },
  {
   "cell_type": "code",
   "execution_count": 90,
   "id": "868db663",
   "metadata": {},
   "outputs": [],
   "source": [
    "url = 'https://www.carrefour.com.br/'\n",
    "complementUrl = 'celulares-smartphones-e-smartwatches/smartphones?map=c,c&page='"
   ]
  },
  {
   "cell_type": "code",
   "execution_count": 92,
   "id": "465c50a0",
   "metadata": {},
   "outputs": [],
   "source": [
    "def getAnnotationsCarrefour(html):\n",
    "    return re.findall(r'({\"@context\":\"https://schema.org/\".*)</script>', html)"
   ]
  },
  {
   "cell_type": "code",
   "execution_count": 93,
   "id": "9d626d80",
   "metadata": {},
   "outputs": [],
   "source": [
    "def getProductsCarrefour(html):\n",
    "    return re.findall(r',[\\'\"?]linkText[\\'\"?]:[\\'\"?]([://\\w\\-.]+)', html)"
   ]
  },
  {
   "cell_type": "code",
   "execution_count": 104,
   "id": "d896b6c7",
   "metadata": {},
   "outputs": [],
   "source": [
    "def crawlerCarrefour(page):\n",
    "    num = 1\n",
    "    flag = False\n",
    "    productPages = []\n",
    "    html = ''\n",
    "    while True:\n",
    "        aux = page + str(num)\n",
    "        r = requests.get(aux, headers=headers, stream=True)\n",
    "        html = r.text\n",
    "        products = getProductsCarrefour(html)\n",
    "        productPages.extend(products)\n",
    "        if(num == 50):\n",
    "            break\n",
    "        num = num + 1\n",
    "    print(\"Encontrou \" + str(len(productPages)) + \" urls de produtos\")\n",
    "    \n",
    "    products = []\n",
    "    for productPage in productPages:\n",
    "        r = requests.get(url + productPage + '/p', headers=headers, stream=True)\n",
    "        html = r.text\n",
    "        products.extend(getAnnotationsCarrefour(html))\n",
    "    \n",
    "    return products"
   ]
  },
  {
   "cell_type": "code",
   "execution_count": 105,
   "id": "c1fad47f",
   "metadata": {},
   "outputs": [
    {
     "name": "stdout",
     "output_type": "stream",
     "text": [
      "Encontrou 375 urls de produtos\n",
      "363\n"
     ]
    }
   ],
   "source": [
    "matchs = crawlerCarrefour(url + complementUrl)\n",
    "print(len(matchs))"
   ]
  },
  {
   "cell_type": "code",
   "execution_count": 126,
   "id": "9fb7af15",
   "metadata": {
    "collapsed": true
   },
   "outputs": [
    {
     "data": {
      "text/plain": [
       "'{\"@context\":\"https://schema.org/\",\"@type\":\"Product\",\"@id\":\"https://www.carrefour.com.br/celular-smartphone-xiaomi-redmi-note-11-4gb-ram-128gb-graphite-gray-mp923835489/p\",\"name\":\"Celular Smartphone Xiaomi Redmi Note 11 4gb Ram 128gb Graphite Gray\",\"brand\":{\"@type\":\"Brand\",\"name\":\"Xiaomi\"},\"image\":\"https://carrefourbr.vtexassets.com/arquivos/ids/94303244/6bf8404a272549768c5d27edb5fe0392.jpg?v=638086760271300000\",\"description\":\"Marca  \\u200exiaomi Fabricante  \\u200exiaomi Modelo  \\u200enote 11 Ano  \\u200e2022 Número Da Peça  \\u200enote 11 Tipo Do Produto  \\u200eeletrônicos Ram  \\u200e4 Capacidade De Armazenamento Da Memória  \\u200e6 Gb Entradas Para Memória  \\u200e1 Tamanho Da Memória Externa  \\u200e128 Tamanho Da Memória Ram Instalada  \\u200e4 Gb Capacidade De Armazenamento Digital  \\u200e128 Gb Marca Do Processador  \\u200equalcomm Velocidade Do Processador  \\u200e2.4 Ghz Tecnologia Da Tela  \\u200elcd, Amoled Tamanho Da Tela  \\u200e6.43 Polegadas Tela Ou Mostrador  \\u200eamoled, Lcd Resolução Do Sensor Óptico  \\u200e16 Mp Descrição Da Bateria Ou Pilha  \\u200epolímero De Lítio Baterias Inclusas  \\u200esim Funciona Com Baterias  \\u200esim Classificação De Potência Da Bateria Ou Pilha  \\u200e5000 Milliampere Hour (mah) Tecnologia Celular  \\u200e4g Tecnologia De Conexão  \\u200ebluetooth, Wi-fi, Usb Entrada De Usuário  \\u200etela Sensível Ao Toque Cor  \\u200egrafite, Cinza Cor Correspondente  \\u200egrafite, Cinza Conexões  \\u200ebluetooth Bluetooth Tipo De Conector  \\u200eusb Tipo C, Jack De 3,5 Mm Resolução Estática Efetiva  \\u200e10 Peso Do Produto  \\u200e160 G Número Do Modelo  \\u200enote 11 Ean  \\u200e6934177767173 Dimensões Do Produto  \\u200e16 X 7.39 X 0.81 Cm, 160 G\",\"mpn\":\"17921516\",\"sku\":\"316692435\",\"offers\":{\"@type\":\"AggregateOffer\",\"lowPrice\":1249,\"highPrice\":1249,\"priceCurrency\":\"BRL\",\"offers\":[{\"@type\":\"Offer\",\"price\":1249,\"priceCurrency\":\"BRL\",\"availability\":\"http://schema.org/InStock\",\"sku\":\"316692435\",\"itemCondition\":\"http://schema.org/NewCondition\",\"seller\":{\"@type\":\"Organization\",\"name\":\"5FSHOP\"}}],\"offerCount\":1}}'"
      ]
     },
     "execution_count": 126,
     "metadata": {},
     "output_type": "execute_result"
    }
   ],
   "source": [
    "replacedMatchs = []\n",
    "aux = \"\"\n",
    "for match in matchs:\n",
    "    aux = match.replace(\"\\xa0\", \"\")\n",
    "    replacedMatchs.append(aux)"
   ]
  },
  {
   "cell_type": "code",
   "execution_count": 127,
   "id": "20d9f7c5",
   "metadata": {},
   "outputs": [],
   "source": [
    "products = []\n",
    "i = 0\n",
    "try:\n",
    "    for match in replacedMatchs:\n",
    "        products.append(json.loads(match))\n",
    "        i = i + 1\n",
    "except: \n",
    "    print(i)"
   ]
  },
  {
   "cell_type": "code",
   "execution_count": 129,
   "id": "7e817d7f",
   "metadata": {},
   "outputs": [],
   "source": [
    "with open(\"CarrefourSmartphone.json\", \"a\") as outfile:\n",
    "    json.dump(products, outfile)"
   ]
  },
  {
   "cell_type": "markdown",
   "id": "c1d15a4f",
   "metadata": {},
   "source": [
    "## Smartphone - Casas Bahia\n",
    "### Android"
   ]
  },
  {
   "cell_type": "code",
   "execution_count": 32,
   "id": "5858e3bc",
   "metadata": {},
   "outputs": [],
   "source": [
    "url = 'https://www.casasbahia.com.br/c/telefones-e-celulares/smartphones/android?filtro=c38_c326_c3266&nid=201448&page='"
   ]
  },
  {
   "cell_type": "code",
   "execution_count": 33,
   "id": "f61622d7",
   "metadata": {},
   "outputs": [],
   "source": [
    "def getAnnotationsCasasBahia(html):\n",
    "    return re.findall(r'({\"@context\":\"https://schema.org/\".*})</script>', html)"
   ]
  },
  {
   "cell_type": "code",
   "execution_count": 34,
   "id": "27b3690d",
   "metadata": {},
   "outputs": [],
   "source": [
    "def getProductsCasasBahia(html):\n",
    "    return re.findall(r'cfHPyT[\\'\"?]><a href=[\\'\"?]([\\\\\\[\\]\\w\\-.,@:/\"”{}?=&~^´`~!#$%¨*_+;()|°®–™ ]+)[\\'\"?] class', html)"
   ]
  },
  {
   "cell_type": "code",
   "execution_count": 40,
   "id": "63c7b35e",
   "metadata": {},
   "outputs": [],
   "source": [
    "def crawlerCasasBahia(page):\n",
    "    num = 1\n",
    "    flag = False\n",
    "    productPages = []\n",
    "    html = ''\n",
    "    while True:\n",
    "        aux = page + str(num)\n",
    "        r = requests.get(aux, headers=headers, stream=True)\n",
    "        html = r.text\n",
    "        products = getProductsCasasBahia(html)\n",
    "        productPages.extend(products)\n",
    "        if(num == 159):\n",
    "            break\n",
    "        num = num + 1\n",
    "    print(\"Encontrou \" + str(len(productPages)) + \" urls de produtos\")\n",
    "    \n",
    "    products = []\n",
    "    for productPage in productPages:\n",
    "        r = requests.get(productPage, headers=headers, stream=True)\n",
    "        html = r.text\n",
    "        products.extend(getAnnotationsCasasBahia(html))\n",
    "    \n",
    "    return products"
   ]
  },
  {
   "cell_type": "code",
   "execution_count": 41,
   "id": "f2385b8b",
   "metadata": {},
   "outputs": [
    {
     "name": "stdout",
     "output_type": "stream",
     "text": [
      "Encontrou 3164 urls de produtos\n"
     ]
    },
    {
     "data": {
      "text/plain": [
       "3159"
      ]
     },
     "execution_count": 41,
     "metadata": {},
     "output_type": "execute_result"
    }
   ],
   "source": [
    "matchs = crawlerCasasBahia(url)\n",
    "len(matchs)"
   ]
  },
  {
   "cell_type": "code",
   "execution_count": 42,
   "id": "4bb06c1c",
   "metadata": {},
   "outputs": [
    {
     "data": {
      "text/plain": [
       "3159"
      ]
     },
     "execution_count": 42,
     "metadata": {},
     "output_type": "execute_result"
    }
   ],
   "source": [
    "products = []\n",
    "i = 0\n",
    "try:\n",
    "    for match in matchs:\n",
    "        products.append(json.loads(match))\n",
    "        i = i + 1\n",
    "except: \n",
    "    print(i)\n",
    "len(products)"
   ]
  },
  {
   "cell_type": "code",
   "execution_count": 43,
   "id": "cfbc46ca",
   "metadata": {},
   "outputs": [],
   "source": [
    "with open(\"CasasBahiaAndroid.json\", \"a\") as outfile:\n",
    "    json.dump(products, outfile)"
   ]
  },
  {
   "cell_type": "markdown",
   "id": "42e30b0c",
   "metadata": {},
   "source": [
    "### Iphone"
   ]
  },
  {
   "cell_type": "code",
   "execution_count": 44,
   "id": "a97cfd53",
   "metadata": {},
   "outputs": [],
   "source": [
    "url = 'https://www.casasbahia.com.br/c/telefones-e-celulares/smartphones/iphone?filtro=c38_c326_c3267&nid=201448&page='"
   ]
  },
  {
   "cell_type": "code",
   "execution_count": 45,
   "id": "622cba5c",
   "metadata": {},
   "outputs": [],
   "source": [
    "def crawlerCasasBahiaIphone(page):\n",
    "    num = 1\n",
    "    flag = False\n",
    "    productPages = []\n",
    "    html = ''\n",
    "    while True:\n",
    "        aux = page + str(num)\n",
    "        r = requests.get(aux, headers=headers, stream=True)\n",
    "        html = r.text\n",
    "        products = getProductsCasasBahia(html)\n",
    "        productPages.extend(products)\n",
    "        if(num == 38):\n",
    "            break\n",
    "        num = num + 1\n",
    "    print(\"Encontrou \" + str(len(productPages)) + \" urls de produtos\")\n",
    "    \n",
    "    products = []\n",
    "    for productPage in productPages:\n",
    "        r = requests.get(productPage, headers=headers, stream=True)\n",
    "        html = r.text\n",
    "        products.extend(getAnnotationsCasasBahia(html))\n",
    "    \n",
    "    return products"
   ]
  },
  {
   "cell_type": "code",
   "execution_count": 46,
   "id": "08d0b0b6",
   "metadata": {},
   "outputs": [
    {
     "name": "stdout",
     "output_type": "stream",
     "text": [
      "Encontrou 756 urls de produtos\n"
     ]
    },
    {
     "data": {
      "text/plain": [
       "753"
      ]
     },
     "execution_count": 46,
     "metadata": {},
     "output_type": "execute_result"
    }
   ],
   "source": [
    "matchs = crawlerCasasBahiaIphone(url)\n",
    "len(matchs)"
   ]
  },
  {
   "cell_type": "code",
   "execution_count": 47,
   "id": "e094aa87",
   "metadata": {},
   "outputs": [
    {
     "data": {
      "text/plain": [
       "753"
      ]
     },
     "execution_count": 47,
     "metadata": {},
     "output_type": "execute_result"
    }
   ],
   "source": [
    "products = []\n",
    "i = 0\n",
    "try:\n",
    "    for match in matchs:\n",
    "        products.append(json.loads(match))\n",
    "        i = i + 1\n",
    "except: \n",
    "    print(i)\n",
    "len(products)"
   ]
  },
  {
   "cell_type": "code",
   "execution_count": 48,
   "id": "18bbdde0",
   "metadata": {},
   "outputs": [],
   "source": [
    "with open(\"CasasBahiaIphone.json\", \"a\") as outfile:\n",
    "    json.dump(products, outfile)"
   ]
  },
  {
   "cell_type": "markdown",
   "id": "eda0a416",
   "metadata": {},
   "source": [
    "## Smartphone - Kabum"
   ]
  },
  {
   "cell_type": "code",
   "execution_count": 4,
   "id": "614ca032",
   "metadata": {},
   "outputs": [],
   "source": [
    "url = 'https://www.kabum.com.br'\n",
    "urlPage = '/celular-smartphone?gclid=CjwKCAjwiOCgBhAgEiwAjv5whC49Va7R5r4qhCz7H7iLUP_GQkevKjFKnz8SSCmrHONIxf1hitmNRRoClckQAvD_BwE&page_number='\n",
    "urlPageComplement = '&page_size=20&facet_filters=&sort=most_searched'"
   ]
  },
  {
   "cell_type": "code",
   "execution_count": 5,
   "id": "49a4d8de",
   "metadata": {},
   "outputs": [],
   "source": [
    "def getAnnotationsKabum(html):\n",
    "    return re.findall(r'(\"@context\":[\\\\\\[\\]\\r\\n\\t\\w\\-.,@:/\"“”″{}?=&~^´`~!#$%¨*_+;()|°®–™\\xa0 ]+.*)</script>', html)"
   ]
  },
  {
   "cell_type": "code",
   "execution_count": 6,
   "id": "8cc05e70",
   "metadata": {},
   "outputs": [],
   "source": [
    "def getProductsKabum(html):\n",
    "    return re.findall(r'</div></div><a href=[\\'\"?]([\\\\\\[\\]\\w\\-.,@:/\"”{}?=&~^´`~!#$%¨*_+;()|°®–™ ]+)[\\'\"?] class=\"sc-ff8a9791-10', html)"
   ]
  },
  {
   "cell_type": "code",
   "execution_count": 12,
   "id": "ad891b6c",
   "metadata": {},
   "outputs": [],
   "source": [
    "def crawlerKabum(page):\n",
    "    num = 251 #ARRUMAR E RODAR\n",
    "    flag = False\n",
    "    productPages = []\n",
    "    html = ''\n",
    "    while True:\n",
    "        aux = page + str(num) + urlPageComplement\n",
    "        r = requests.get(aux, headers=headers, stream=True)\n",
    "        html = r.text\n",
    "        products = getProductsKabum(html)\n",
    "        productPages.extend(products)\n",
    "        if(num == 300):\n",
    "            break\n",
    "        num = num + 1\n",
    "    print(\"Encontrou \" + str(len(productPages)) + \" urls de produtos\")\n",
    "    \n",
    "    products = []\n",
    "    for productPage in productPages:\n",
    "        r = requests.get(url + productPage, headers=headers, stream=True)\n",
    "        html = r.text\n",
    "        products.extend(getAnnotationsKabum(html))\n",
    "    \n",
    "    return products"
   ]
  },
  {
   "cell_type": "code",
   "execution_count": 13,
   "id": "e4a6d065",
   "metadata": {},
   "outputs": [
    {
     "name": "stdout",
     "output_type": "stream",
     "text": [
      "Encontrou 1000 urls de produtos\n",
      "960\n"
     ]
    }
   ],
   "source": [
    "matchs = crawlerKabum(url + urlPage)\n",
    "print(len(matchs))"
   ]
  },
  {
   "cell_type": "code",
   "execution_count": 14,
   "id": "996f6f1a",
   "metadata": {},
   "outputs": [
    {
     "data": {
      "text/plain": [
       "960"
      ]
     },
     "execution_count": 14,
     "metadata": {},
     "output_type": "execute_result"
    }
   ],
   "source": [
    "replacedMatchs = []\n",
    "aux = \"\"\n",
    "for match in matchs:\n",
    "    aux = match.replace(\"\\n\", \"\")\n",
    "    aux = aux.replace(\"\\t\",\"\")\n",
    "    aux = aux.replace(\"\\r\",\"\")\n",
    "    aux = aux.replace('\": \"','\":\"')\n",
    "    aux = aux.replace('  ','')\n",
    "    aux = aux.replace('\\\\\\\\\"', '″')\n",
    "    \n",
    "    replacedMatchs.append('{' + aux)\n",
    "len(replacedMatchs)"
   ]
  },
  {
   "cell_type": "code",
   "execution_count": 16,
   "id": "1865b7e6",
   "metadata": {},
   "outputs": [
    {
     "data": {
      "text/plain": [
       "'{\"@context\":\"https://schema.org\",\"@type\":\"Product\",\"description\":\"Capa para Iphone X e XS 5.8\\\\″ Airbag Baseus TPU Preto, Transparente As Capas Originais da Baseus oferecem ultra proteção, estrutura elástica e\\xa0design sem impressão digital.Sua superfície exterior é macia e impermeável. A superfície traseira fornece proteção. Possui proteção ultra-absorvente contra choques nas bordas. Protege o seu iPhone de arranhões, sujeira e quedas. Todos as entradas do iPhone podem ser acessadas sem remover a capa. Ela adapta-se perfeitamente ao seu dispositivo graças ao excelente design. Fácil de instalar e remover.\",\"name\":\"Capa Baseus Para Iphone X E Xs 5.8\\\\\" Airbag TPU, Transparente\",\"image\":\"https://images.kabum.com.br/produtos/fotos/sync_mirakl/395921/Capa-Baseus-Para-Iphone-X-E-Xs-5-8-Airbag-TPU-Transparente_1666114690_gg.jpg\",\"sku\":\"395921\",\"offers\": {\"@type\":\"Offer\",\"availability\":\"https://schema.org/InStock\",\"price\":\"24.93\",\"priceCurrency\":\"BRL\",\"url\":\"https://www.kabum.com.br/produto/395921/capa-baseus-para-iphone-x-e-xs-5-8-airbag-tpu-transparente\"},\"brand\": {\"@type\":\"Brand\",\"name\":\"Baseus\"}}'"
      ]
     },
     "execution_count": 16,
     "metadata": {},
     "output_type": "execute_result"
    }
   ],
   "source": [
    "replacedMatchs.pop(50)"
   ]
  },
  {
   "cell_type": "code",
   "execution_count": 17,
   "id": "25b2596e",
   "metadata": {
    "scrolled": true
   },
   "outputs": [],
   "source": [
    "products = []\n",
    "i = 0\n",
    "try:\n",
    "    for match in replacedMatchs:\n",
    "        products.append(json.loads(match))\n",
    "        i = i + 1\n",
    "except: \n",
    "    print(i)"
   ]
  },
  {
   "cell_type": "code",
   "execution_count": 18,
   "id": "d04d6f81",
   "metadata": {},
   "outputs": [],
   "source": [
    "with open(\"KabumSmartphones6.json\", \"a\") as outfile:\n",
    "    json.dump(products, outfile)"
   ]
  },
  {
   "cell_type": "code",
   "execution_count": null,
   "id": "b99bbeda",
   "metadata": {},
   "outputs": [],
   "source": []
  }
 ],
 "metadata": {
  "kernelspec": {
   "display_name": "Python 3 (ipykernel)",
   "language": "python",
   "name": "python3"
  },
  "language_info": {
   "codemirror_mode": {
    "name": "ipython",
    "version": 3
   },
   "file_extension": ".py",
   "mimetype": "text/x-python",
   "name": "python",
   "nbconvert_exporter": "python",
   "pygments_lexer": "ipython3",
   "version": "3.11.0"
  }
 },
 "nbformat": 4,
 "nbformat_minor": 5
}
