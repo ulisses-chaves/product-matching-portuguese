{
 "cells": [
  {
   "cell_type": "markdown",
   "id": "ec6bacb0",
   "metadata": {},
   "source": [
    "# Data Processing"
   ]
  },
  {
   "cell_type": "code",
   "execution_count": 3,
   "id": "b0fa816d",
   "metadata": {},
   "outputs": [],
   "source": [
    "import pandas as pd\n",
    "import numpy as np"
   ]
  },
  {
   "cell_type": "markdown",
   "id": "3f758219",
   "metadata": {},
   "source": [
    "## Smartphones"
   ]
  },
  {
   "cell_type": "code",
   "execution_count": 1,
   "id": "38750461",
   "metadata": {},
   "outputs": [],
   "source": [
    "def csv_to_deepmatcher_pattern(path):\n",
    "    df = pd.read_csv(path, low_memory=False)\n",
    "    df = df[['name', 'brand/name', 'description', 'sku', 'offers/price']]\n",
    "    df = df.rename(columns={'offers/0/offers/0/price': 'offers/price'})\n",
    "    df.drop_duplicates(subset=df.columns, inplace=True)\n",
    "    df.dropna(inplace=True)\n",
    "    display(df)\n",
    "    return process_data(df)"
   ]
  },
  {
   "cell_type": "code",
   "execution_count": 4,
   "id": "b46a5330",
   "metadata": {},
   "outputs": [],
   "source": [
    "def process_data(df):\n",
    "    sku_array = df['sku'].values\n",
    "    name_array = df['name'].values\n",
    "    brand_array = df['brand/name'].values\n",
    "    price_array = df['offers/price'].values\n",
    "    description_array = df['description'].values\n",
    "    \n",
    "    indexes = np.triu_indices(len(sku_array), k=1)\n",
    "    \n",
    "    sku_comparison = np.where(sku_array[indexes[0]] == sku_array[indexes[1]], 'Match', 'Non-Match')\n",
    "    name_comparison = np.where(name_array[indexes[0]] == name_array[indexes[1]], 'Match', 'Non-Match')\n",
    "    \n",
    "    comparison = np.where(np.logical_or(sku_comparison == 'Match', name_comparison == 'Match'), 'Match', 'Non-Match')\n",
    "    \n",
    "    result_df = pd.DataFrame({'Label': comparison,\n",
    "                            'Left Product Title': name_array[indexes[0]],\n",
    "                            'Left Manufacturer': brand_array[indexes[0]],\n",
    "                            'Left Price': price_array[indexes[0]],\n",
    "                            'Left Description': description_array[indexes[0]],\n",
    "                            'Right Product Title': name_array[indexes[1]],\n",
    "                            'Right Manufacturer': brand_array[indexes[1]],\n",
    "                            'Right Price': price_array[indexes[1]],\n",
    "                            'Right Description': description_array[indexes[1]]})\n",
    "    return result_df"
   ]
  },
  {
   "cell_type": "markdown",
   "id": "3aa10545",
   "metadata": {},
   "source": [
    "## Kabum - Smartphones"
   ]
  },
  {
   "cell_type": "code",
   "execution_count": 5,
   "id": "5566d360",
   "metadata": {},
   "outputs": [
    {
     "data": {
      "text/html": [
       "<div>\n",
       "<style scoped>\n",
       "    .dataframe tbody tr th:only-of-type {\n",
       "        vertical-align: middle;\n",
       "    }\n",
       "\n",
       "    .dataframe tbody tr th {\n",
       "        vertical-align: top;\n",
       "    }\n",
       "\n",
       "    .dataframe thead th {\n",
       "        text-align: right;\n",
       "    }\n",
       "</style>\n",
       "<table border=\"1\" class=\"dataframe\">\n",
       "  <thead>\n",
       "    <tr style=\"text-align: right;\">\n",
       "      <th></th>\n",
       "      <th>name</th>\n",
       "      <th>brand/name</th>\n",
       "      <th>description</th>\n",
       "      <th>sku</th>\n",
       "      <th>offers/price</th>\n",
       "    </tr>\n",
       "  </thead>\n",
       "  <tbody>\n",
       "    <tr>\n",
       "      <th>0</th>\n",
       "      <td>Smartphone Motorola Moto E20, 32GB, 2GB RAM, O...</td>\n",
       "      <td>Motorola</td>\n",
       "      <td>Smartphone Motorola Moto E20, 32GB, 2GB RAM, O...</td>\n",
       "      <td>265965</td>\n",
       "      <td>649.00</td>\n",
       "    </tr>\n",
       "    <tr>\n",
       "      <th>1</th>\n",
       "      <td>Smartphone Samsung Galaxy A03 Core, 2GB RAM, 3...</td>\n",
       "      <td>Samsung</td>\n",
       "      <td>Smartphone Samsung Galaxy A03 Core, 32GB, 2GB ...</td>\n",
       "      <td>378876</td>\n",
       "      <td>599.00</td>\n",
       "    </tr>\n",
       "    <tr>\n",
       "      <th>2</th>\n",
       "      <td>Carregador de Tomada Apple USB-C, para iPhone ...</td>\n",
       "      <td>Apple</td>\n",
       "      <td>Carregador de Tomada Apple USB-C, 20W, Branco ...</td>\n",
       "      <td>208371</td>\n",
       "      <td>149.00</td>\n",
       "    </tr>\n",
       "    <tr>\n",
       "      <th>3</th>\n",
       "      <td>Smartphone Samsung Galaxy A13, 4GB RAM, 128GB,...</td>\n",
       "      <td>Samsung</td>\n",
       "      <td>Smartphone Samsung Galaxy A13 128GB, Preto Con...</td>\n",
       "      <td>324820</td>\n",
       "      <td>1199.00</td>\n",
       "    </tr>\n",
       "    <tr>\n",
       "      <th>4</th>\n",
       "      <td>Smartphone Motorola Moto G71, 5G, 6GB RAM, 128...</td>\n",
       "      <td>Motorola</td>\n",
       "      <td>Smartphone Motorola Moto G71, 5G, 6GB RAM, 128...</td>\n",
       "      <td>308550</td>\n",
       "      <td>1749.00</td>\n",
       "    </tr>\n",
       "    <tr>\n",
       "      <th>...</th>\n",
       "      <td>...</td>\n",
       "      <td>...</td>\n",
       "      <td>...</td>\n",
       "      <td>...</td>\n",
       "      <td>...</td>\n",
       "    </tr>\n",
       "    <tr>\n",
       "      <th>10409</th>\n",
       "      <td>Pelicula Applewatch 44mm Invisivel</td>\n",
       "      <td>HPRIME</td>\n",
       "      <td>Pelicula AppleWatch 44mm Invisivel As Película...</td>\n",
       "      <td>366154</td>\n",
       "      <td>16.39</td>\n",
       "    </tr>\n",
       "    <tr>\n",
       "      <th>10410</th>\n",
       "      <td>Pelicula Iphone Xs Max/ 11 Pro Max Invisivel</td>\n",
       "      <td>HPRIME</td>\n",
       "      <td>Pelicula Iphone Xs Max/ 11 Pro Max InvisivelAs...</td>\n",
       "      <td>366155</td>\n",
       "      <td>16.39</td>\n",
       "    </tr>\n",
       "    <tr>\n",
       "      <th>10411</th>\n",
       "      <td>Pelicula Iphone 7/ 8/ Se2022 Invisivel</td>\n",
       "      <td>HPRIME</td>\n",
       "      <td>Pelicula Iphone 7/ 8/ SE2022 InvisivelAs Pelíc...</td>\n",
       "      <td>366157</td>\n",
       "      <td>16.39</td>\n",
       "    </tr>\n",
       "    <tr>\n",
       "      <th>10412</th>\n",
       "      <td>Pelicula Applewatch 42mm Invisivel</td>\n",
       "      <td>HPRIME</td>\n",
       "      <td>Pelicula AppleWatch 42mm InvisivelAs Películas...</td>\n",
       "      <td>366164</td>\n",
       "      <td>16.39</td>\n",
       "    </tr>\n",
       "    <tr>\n",
       "      <th>10413</th>\n",
       "      <td>Pelicula Iphone 13 Mini Invisivel</td>\n",
       "      <td>HPRIME</td>\n",
       "      <td>Pelicula Iphone 13 Mini Invisivel As Películas...</td>\n",
       "      <td>366165</td>\n",
       "      <td>16.39</td>\n",
       "    </tr>\n",
       "  </tbody>\n",
       "</table>\n",
       "<p>8430 rows × 5 columns</p>\n",
       "</div>"
      ],
      "text/plain": [
       "                                                    name brand/name  \\\n",
       "0      Smartphone Motorola Moto E20, 32GB, 2GB RAM, O...   Motorola   \n",
       "1      Smartphone Samsung Galaxy A03 Core, 2GB RAM, 3...    Samsung   \n",
       "2      Carregador de Tomada Apple USB-C, para iPhone ...      Apple   \n",
       "3      Smartphone Samsung Galaxy A13, 4GB RAM, 128GB,...    Samsung   \n",
       "4      Smartphone Motorola Moto G71, 5G, 6GB RAM, 128...   Motorola   \n",
       "...                                                  ...        ...   \n",
       "10409                 Pelicula Applewatch 44mm Invisivel     HPRIME   \n",
       "10410       Pelicula Iphone Xs Max/ 11 Pro Max Invisivel     HPRIME   \n",
       "10411             Pelicula Iphone 7/ 8/ Se2022 Invisivel     HPRIME   \n",
       "10412                 Pelicula Applewatch 42mm Invisivel     HPRIME   \n",
       "10413                  Pelicula Iphone 13 Mini Invisivel     HPRIME   \n",
       "\n",
       "                                             description     sku  offers/price  \n",
       "0      Smartphone Motorola Moto E20, 32GB, 2GB RAM, O...  265965        649.00  \n",
       "1      Smartphone Samsung Galaxy A03 Core, 32GB, 2GB ...  378876        599.00  \n",
       "2      Carregador de Tomada Apple USB-C, 20W, Branco ...  208371        149.00  \n",
       "3      Smartphone Samsung Galaxy A13 128GB, Preto Con...  324820       1199.00  \n",
       "4      Smartphone Motorola Moto G71, 5G, 6GB RAM, 128...  308550       1749.00  \n",
       "...                                                  ...     ...           ...  \n",
       "10409  Pelicula AppleWatch 44mm Invisivel As Película...  366154         16.39  \n",
       "10410  Pelicula Iphone Xs Max/ 11 Pro Max InvisivelAs...  366155         16.39  \n",
       "10411  Pelicula Iphone 7/ 8/ SE2022 InvisivelAs Pelíc...  366157         16.39  \n",
       "10412  Pelicula AppleWatch 42mm InvisivelAs Películas...  366164         16.39  \n",
       "10413  Pelicula Iphone 13 Mini Invisivel As Películas...  366165         16.39  \n",
       "\n",
       "[8430 rows x 5 columns]"
      ]
     },
     "metadata": {},
     "output_type": "display_data"
    },
    {
     "name": "stdout",
     "output_type": "stream",
     "text": [
      "Non-Match    35527850\n",
      "Match             385\n",
      "Name: Label, dtype: int64\n"
     ]
    }
   ],
   "source": [
    "df_kabumSmartphones_deepmatcher = csv_to_deepmatcher_pattern('../data/interim/first data pre-processing/KabumSmartphones.csv')\n",
    "print(df_kabumSmartphones_deepmatcher['Label'].value_counts())"
   ]
  },
  {
   "cell_type": "markdown",
   "id": "c26fa2c1",
   "metadata": {},
   "source": [
    "## Carrefour - Smartphones"
   ]
  },
  {
   "cell_type": "code",
   "execution_count": 36,
   "id": "6f86c433",
   "metadata": {
    "collapsed": true
   },
   "outputs": [
    {
     "ename": "KeyError",
     "evalue": "\"['offers/price'] not in index\"",
     "output_type": "error",
     "traceback": [
      "\u001b[1;31m---------------------------------------------------------------------------\u001b[0m",
      "\u001b[1;31mKeyError\u001b[0m                                  Traceback (most recent call last)",
      "Cell \u001b[1;32mIn[36], line 1\u001b[0m\n\u001b[1;32m----> 1\u001b[0m df_carrefourSmartphone_deepmatcher \u001b[38;5;241m=\u001b[39m \u001b[43mcsv_to_deepmatcher_pattern\u001b[49m\u001b[43m(\u001b[49m\u001b[38;5;124;43m'\u001b[39;49m\u001b[38;5;124;43m../data/interim/first data pre-processing/CarrefourSmartphone.csv\u001b[39;49m\u001b[38;5;124;43m'\u001b[39;49m\u001b[43m)\u001b[49m\n\u001b[0;32m      2\u001b[0m \u001b[38;5;28mprint\u001b[39m(df_carrefourSmartphone_deepmatcher[\u001b[38;5;124m'\u001b[39m\u001b[38;5;124mLabel\u001b[39m\u001b[38;5;124m'\u001b[39m]\u001b[38;5;241m.\u001b[39mvalue_counts())\n",
      "Cell \u001b[1;32mIn[34], line 3\u001b[0m, in \u001b[0;36mcsv_to_deepmatcher_pattern\u001b[1;34m(path)\u001b[0m\n\u001b[0;32m      1\u001b[0m \u001b[38;5;28;01mdef\u001b[39;00m \u001b[38;5;21mcsv_to_deepmatcher_pattern\u001b[39m(path):\n\u001b[0;32m      2\u001b[0m     df \u001b[38;5;241m=\u001b[39m pd\u001b[38;5;241m.\u001b[39mread_csv(path, low_memory\u001b[38;5;241m=\u001b[39m\u001b[38;5;28;01mFalse\u001b[39;00m)\n\u001b[1;32m----> 3\u001b[0m     df \u001b[38;5;241m=\u001b[39m \u001b[43mdf\u001b[49m\u001b[43m[\u001b[49m\u001b[43m[\u001b[49m\u001b[38;5;124;43m'\u001b[39;49m\u001b[38;5;124;43mname\u001b[39;49m\u001b[38;5;124;43m'\u001b[39;49m\u001b[43m,\u001b[49m\u001b[43m \u001b[49m\u001b[38;5;124;43m'\u001b[39;49m\u001b[38;5;124;43mbrand/name\u001b[39;49m\u001b[38;5;124;43m'\u001b[39;49m\u001b[43m,\u001b[49m\u001b[43m \u001b[49m\u001b[38;5;124;43m'\u001b[39;49m\u001b[38;5;124;43mdescription\u001b[39;49m\u001b[38;5;124;43m'\u001b[39;49m\u001b[43m,\u001b[49m\u001b[43m \u001b[49m\u001b[38;5;124;43m'\u001b[39;49m\u001b[38;5;124;43msku\u001b[39;49m\u001b[38;5;124;43m'\u001b[39;49m\u001b[43m,\u001b[49m\u001b[43m \u001b[49m\u001b[38;5;124;43m'\u001b[39;49m\u001b[38;5;124;43moffers/price\u001b[39;49m\u001b[38;5;124;43m'\u001b[39;49m\u001b[43m]\u001b[49m\u001b[43m]\u001b[49m\n\u001b[0;32m      4\u001b[0m     df \u001b[38;5;241m=\u001b[39m df\u001b[38;5;241m.\u001b[39mrename(columns\u001b[38;5;241m=\u001b[39m{\u001b[38;5;124m'\u001b[39m\u001b[38;5;124moffers/0/offers/0/price\u001b[39m\u001b[38;5;124m'\u001b[39m: \u001b[38;5;124m'\u001b[39m\u001b[38;5;124moffers/price\u001b[39m\u001b[38;5;124m'\u001b[39m})\n\u001b[0;32m      5\u001b[0m     df\u001b[38;5;241m.\u001b[39mdrop_duplicates(subset\u001b[38;5;241m=\u001b[39mdf\u001b[38;5;241m.\u001b[39mcolumns, inplace\u001b[38;5;241m=\u001b[39m\u001b[38;5;28;01mTrue\u001b[39;00m)\n",
      "File \u001b[1;32m~\\AppData\\Local\\Programs\\Python\\Python311\\Lib\\site-packages\\pandas\\core\\frame.py:3813\u001b[0m, in \u001b[0;36mDataFrame.__getitem__\u001b[1;34m(self, key)\u001b[0m\n\u001b[0;32m   3811\u001b[0m     \u001b[38;5;28;01mif\u001b[39;00m is_iterator(key):\n\u001b[0;32m   3812\u001b[0m         key \u001b[38;5;241m=\u001b[39m \u001b[38;5;28mlist\u001b[39m(key)\n\u001b[1;32m-> 3813\u001b[0m     indexer \u001b[38;5;241m=\u001b[39m \u001b[38;5;28;43mself\u001b[39;49m\u001b[38;5;241;43m.\u001b[39;49m\u001b[43mcolumns\u001b[49m\u001b[38;5;241;43m.\u001b[39;49m\u001b[43m_get_indexer_strict\u001b[49m\u001b[43m(\u001b[49m\u001b[43mkey\u001b[49m\u001b[43m,\u001b[49m\u001b[43m \u001b[49m\u001b[38;5;124;43m\"\u001b[39;49m\u001b[38;5;124;43mcolumns\u001b[39;49m\u001b[38;5;124;43m\"\u001b[39;49m\u001b[43m)\u001b[49m[\u001b[38;5;241m1\u001b[39m]\n\u001b[0;32m   3815\u001b[0m \u001b[38;5;66;03m# take() does not accept boolean indexers\u001b[39;00m\n\u001b[0;32m   3816\u001b[0m \u001b[38;5;28;01mif\u001b[39;00m \u001b[38;5;28mgetattr\u001b[39m(indexer, \u001b[38;5;124m\"\u001b[39m\u001b[38;5;124mdtype\u001b[39m\u001b[38;5;124m\"\u001b[39m, \u001b[38;5;28;01mNone\u001b[39;00m) \u001b[38;5;241m==\u001b[39m \u001b[38;5;28mbool\u001b[39m:\n",
      "File \u001b[1;32m~\\AppData\\Local\\Programs\\Python\\Python311\\Lib\\site-packages\\pandas\\core\\indexes\\base.py:6070\u001b[0m, in \u001b[0;36mIndex._get_indexer_strict\u001b[1;34m(self, key, axis_name)\u001b[0m\n\u001b[0;32m   6067\u001b[0m \u001b[38;5;28;01melse\u001b[39;00m:\n\u001b[0;32m   6068\u001b[0m     keyarr, indexer, new_indexer \u001b[38;5;241m=\u001b[39m \u001b[38;5;28mself\u001b[39m\u001b[38;5;241m.\u001b[39m_reindex_non_unique(keyarr)\n\u001b[1;32m-> 6070\u001b[0m \u001b[38;5;28;43mself\u001b[39;49m\u001b[38;5;241;43m.\u001b[39;49m\u001b[43m_raise_if_missing\u001b[49m\u001b[43m(\u001b[49m\u001b[43mkeyarr\u001b[49m\u001b[43m,\u001b[49m\u001b[43m \u001b[49m\u001b[43mindexer\u001b[49m\u001b[43m,\u001b[49m\u001b[43m \u001b[49m\u001b[43maxis_name\u001b[49m\u001b[43m)\u001b[49m\n\u001b[0;32m   6072\u001b[0m keyarr \u001b[38;5;241m=\u001b[39m \u001b[38;5;28mself\u001b[39m\u001b[38;5;241m.\u001b[39mtake(indexer)\n\u001b[0;32m   6073\u001b[0m \u001b[38;5;28;01mif\u001b[39;00m \u001b[38;5;28misinstance\u001b[39m(key, Index):\n\u001b[0;32m   6074\u001b[0m     \u001b[38;5;66;03m# GH 42790 - Preserve name from an Index\u001b[39;00m\n",
      "File \u001b[1;32m~\\AppData\\Local\\Programs\\Python\\Python311\\Lib\\site-packages\\pandas\\core\\indexes\\base.py:6133\u001b[0m, in \u001b[0;36mIndex._raise_if_missing\u001b[1;34m(self, key, indexer, axis_name)\u001b[0m\n\u001b[0;32m   6130\u001b[0m     \u001b[38;5;28;01mraise\u001b[39;00m \u001b[38;5;167;01mKeyError\u001b[39;00m(\u001b[38;5;124mf\u001b[39m\u001b[38;5;124m\"\u001b[39m\u001b[38;5;124mNone of [\u001b[39m\u001b[38;5;132;01m{\u001b[39;00mkey\u001b[38;5;132;01m}\u001b[39;00m\u001b[38;5;124m] are in the [\u001b[39m\u001b[38;5;132;01m{\u001b[39;00maxis_name\u001b[38;5;132;01m}\u001b[39;00m\u001b[38;5;124m]\u001b[39m\u001b[38;5;124m\"\u001b[39m)\n\u001b[0;32m   6132\u001b[0m not_found \u001b[38;5;241m=\u001b[39m \u001b[38;5;28mlist\u001b[39m(ensure_index(key)[missing_mask\u001b[38;5;241m.\u001b[39mnonzero()[\u001b[38;5;241m0\u001b[39m]]\u001b[38;5;241m.\u001b[39munique())\n\u001b[1;32m-> 6133\u001b[0m \u001b[38;5;28;01mraise\u001b[39;00m \u001b[38;5;167;01mKeyError\u001b[39;00m(\u001b[38;5;124mf\u001b[39m\u001b[38;5;124m\"\u001b[39m\u001b[38;5;132;01m{\u001b[39;00mnot_found\u001b[38;5;132;01m}\u001b[39;00m\u001b[38;5;124m not in index\u001b[39m\u001b[38;5;124m\"\u001b[39m)\n",
      "\u001b[1;31mKeyError\u001b[0m: \"['offers/price'] not in index\""
     ]
    }
   ],
   "source": [
    "df_carrefourSmartphone_deepmatcher = csv_to_deepmatcher_pattern('../data/interim/first data pre-processing/CarrefourSmartphone.csv')\n",
    "print(df_carrefourSmartphone_deepmatcher['Label'].value_counts())"
   ]
  },
  {
   "cell_type": "markdown",
   "id": "8faf9bed",
   "metadata": {},
   "source": [
    "## Girafa - Smartphones"
   ]
  },
  {
   "cell_type": "code",
   "execution_count": 6,
   "id": "543babd0",
   "metadata": {
    "scrolled": true
   },
   "outputs": [
    {
     "name": "stdout",
     "output_type": "stream",
     "text": [
      "Non-Match    5253\n",
      "Name: Label, dtype: int64\n"
     ]
    }
   ],
   "source": [
    "df_girafa_deepmatcher = csv_to_deepmatcher_pattern('../data/interim/first data pre-processing/GirafaSmartphone.csv')\n",
    "print(df_girafa_deepmatcher['Label'].value_counts())"
   ]
  },
  {
   "cell_type": "markdown",
   "id": "6fa42151",
   "metadata": {},
   "source": [
    "## Loja Solar - Smartphones"
   ]
  },
  {
   "cell_type": "code",
   "execution_count": 10,
   "id": "6c4760ed",
   "metadata": {},
   "outputs": [
    {
     "name": "stdout",
     "output_type": "stream",
     "text": [
      "Non-Match    40898\n",
      "Match          143\n",
      "Name: Label, dtype: int64\n"
     ]
    }
   ],
   "source": [
    "#Crawler feito de maneira errada. pois 184 é o total de itens\n",
    "df_lojaSolar_deepmatcher = csv_to_deepmatcher_pattern('../data/interim/first data pre-processing/LojaSolarSmartphone.csv')\n",
    "print(df_lojaSolar_deepmatcher['Label'].value_counts())"
   ]
  },
  {
   "cell_type": "markdown",
   "id": "63be54af",
   "metadata": {},
   "source": [
    "## Angeloni - Smarphones"
   ]
  },
  {
   "cell_type": "code",
   "execution_count": 12,
   "id": "388d6f91",
   "metadata": {},
   "outputs": [
    {
     "name": "stdout",
     "output_type": "stream",
     "text": [
      "Non-Match    30504\n",
      "Match          124\n",
      "Name: Label, dtype: int64\n"
     ]
    }
   ],
   "source": [
    "df_angeloni_deepmatcher = csv_to_deepmatcher_pattern('../data/interim/first data pre-processing/AngeloniSmartphone.csv')\n",
    "print(df_angeloni_deepmatcher['Label'].value_counts())"
   ]
  },
  {
   "cell_type": "markdown",
   "id": "ff04befa",
   "metadata": {},
   "source": [
    "## Casas Bahia - Smartphones"
   ]
  },
  {
   "cell_type": "code",
   "execution_count": 33,
   "id": "d2f5c4a0",
   "metadata": {},
   "outputs": [
    {
     "name": "stdout",
     "output_type": "stream",
     "text": [
      "Non-Match    283058\n",
      "Match            70\n",
      "Name: Label, dtype: int64\n",
      "Non-Match    4953108\n",
      "Match            270\n",
      "Name: Label, dtype: int64\n"
     ]
    }
   ],
   "source": [
    "df_casasBahiaIphone_deepmatcher = csv_to_deepmatcher_pattern('../data/interim/first data pre-processing/CasasBahiaIphone.csv')\n",
    "print(df_casasBahiaIphone_deepmatcher['Label'].value_counts())\n",
    "\n",
    "df_casasBahiaAndroid_deepmatcher = csv_to_deepmatcher_pattern('../data/interim/first data pre-processing/CasasBahiaAndroid.csv')\n",
    "print(df_casasBahiaAndroid_deepmatcher['Label'].value_counts())"
   ]
  },
  {
   "cell_type": "code",
   "execution_count": null,
   "id": "ecf02313",
   "metadata": {},
   "outputs": [],
   "source": [
    "#df_kabumSmartphones_deepmatcher.to_csv('../data/processed/KabumSmartphonesDeepmatcher.csv')"
   ]
  }
 ],
 "metadata": {
  "kernelspec": {
   "display_name": "Python 3 (ipykernel)",
   "language": "python",
   "name": "python3"
  },
  "language_info": {
   "codemirror_mode": {
    "name": "ipython",
    "version": 3
   },
   "file_extension": ".py",
   "mimetype": "text/x-python",
   "name": "python",
   "nbconvert_exporter": "python",
   "pygments_lexer": "ipython3",
   "version": "3.11.0"
  }
 },
 "nbformat": 4,
 "nbformat_minor": 5
}
